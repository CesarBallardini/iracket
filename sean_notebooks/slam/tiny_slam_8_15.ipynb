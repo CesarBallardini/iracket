{
 "cells": [
  {
   "cell_type": "code",
   "execution_count": 52,
   "metadata": {
    "collapsed": false
   },
   "outputs": [],
   "source": [
    "(require gamble\n",
    "         math\n",
    "         racket/list)\n",
    "\n",
    "(struct point (x y))\n",
    "\n",
    "(define (point-minus p1 p2)\n",
    "  (point (- (point-x p1) (point-x p2))\n",
    "         (- (point-y p1) (point-y p2))))\n",
    "\n",
    "(define (point-plus p1 p2)\n",
    "  (point (+ (point-x p1) (point-x p2))\n",
    "         (+ (point-y p1) (point-y p2))))\n",
    "\n",
    "(define (square x) (* x x))\n",
    "\n",
    "(define (dist-from-origin pt)\n",
    "  (sqrt (+ (square (point-x pt)) (square (point-y pt)))))\n",
    "\n",
    "(define (angle-to origin object)\n",
    "  (let ([diff (point-minus object origin)])\n",
    "    (acos (/ (point-x diff) (dist-from-origin diff)))))\n",
    "\n",
    "(define (distance-between pt1 pt2)\n",
    "  (let ([diff (point-minus pt2 pt1)])\n",
    "    (dist-from-origin diff)))\n",
    "\n",
    "(define (in-angle-slice low high viewer-loc object-loc)\n",
    "  (let ([diff (point-minus object-loc viewer-loc)])\n",
    "    (let ([angle (angle-to-origin diff)])\n",
    "      (and (< low angle) (<= angle high)))))\n",
    "\n",
    "(define (min-and-idx lst)\n",
    "  (argmin car (for/list ([e lst]\n",
    "                       [i (in-naturals)])\n",
    "                      (cons e i))))\n",
    "\n",
    "(define (idx-of-min lst)\n",
    "  (cdr (min-and-idx lst)))\n",
    "\n",
    "(define (closest-lm-and-range ranges lms)\n",
    "  (let ([range-and-idx (min-and-idx ranges)])\n",
    "    (let ([idx (cdr range-and-idx)]\n",
    "          [rng (car range-and-idx)])\n",
    "      (cons (list-ref lms idx) rng))))\n",
    "\n",
    "(define (closest-lm ranges lms)\n",
    "  (let ([range-and-idx (min-and-idx ranges)])\n",
    "    (let ([idx (cdr range-and-idx)])\n",
    "      (list-ref lms idx))))"
   ]
  },
  {
   "cell_type": "code",
   "execution_count": 53,
   "metadata": {
    "collapsed": false
   },
   "outputs": [
    {
     "data": {
      "text/plain": [
       "c"
      ]
     },
     "execution_count": 53,
     "metadata": {},
     "output_type": "execute_result"
    }
   ],
   "source": [
    "(closest-lm '(3 9 0 2 5) '(a b c d e))"
   ]
  },
  {
   "cell_type": "code",
   "execution_count": 43,
   "metadata": {
    "collapsed": false
   },
   "outputs": [],
   "source": [
    "(define exogeneous-accelerations\n",
    "  (make-hash \n",
    "   (list \n",
    "    (cons 0 (point 0.1 0.1))\n",
    "    (cons 1 (point 0.09 0.11))\n",
    "    (cons 2 (point 0.08 0.12))\n",
    "    (cons 3 (point 0.07 0.13))\n",
    "    (cons 4 (point 0.06 0.14))\n",
    "    (cons 5 (point 0.05 0.15))\n",
    "    (cons 6 (point 0.04 0.16))\n",
    "    (cons 7 (point 0.03 0.17))\n",
    "    (cons 8 (point 0.02 0.18)))))\n",
    "\n",
    "(define (agent-acceleration time)\n",
    "  (hash-ref exogeneous-accelerations time))"
   ]
  },
  {
   "cell_type": "markdown",
   "metadata": {},
   "source": [
    "#Model\n",
    "\n",
    "I can't remember the original, so I'm making some things up.  Let's assume that if a landmark is the closest one in the observed angle slice, then the log-range returned is normally distributed around the true log distance. If no landmark is in the slice, then the range returned is (say) +inf.0."
   ]
  },
  {
   "cell_type": "code",
   "execution_count": 58,
   "metadata": {
    "collapsed": false
   },
   "outputs": [],
   "source": [
    "(defmodel slam\n",
    "          \n",
    "  (define location-noise-std-dev 0.05)\n",
    "  (define velocity-noise-std-dev 0.1)\n",
    "  (define obs-noise-std-dev 0.01)\n",
    "          \n",
    "  (deflazy n-landmarks (poisson 3))\n",
    "  (deflazy landmarks (range (+ n-landmarks 1)))\n",
    "  (defmem (landmark-location landmark) (point (uniform -1 1) (uniform -1 1)))\n",
    "          \n",
    "  (defmem (agent-location time)\n",
    "          (if (= time 0)\n",
    "              (point (uniform -1 1) (uniform -1 1))\n",
    "              (point-plus\n",
    "                (point (normal 0 location-noise-std-dev)\n",
    "                       (normal 0 location-noise-std-dev))\n",
    "                (point-plus \n",
    "                    (agent-location (- time 1))\n",
    "                    (agent-velocity (- time 1))))))\n",
    "          \n",
    "          \n",
    "#|\n",
    "  ;; map-belief is a list of (mean cov) pairs?         \n",
    "  (defmem (map-belief time)\n",
    "          (observation-xy...\n",
    "           assignment of obs to landmark...\n",
    "           (map-belief (- time 1))))\n",
    "|#        \n",
    "          \n",
    "  (defmem (agent-velocity time)\n",
    "          (if (= time -1)\n",
    "              (point (normal 0 velocity-noise-std-dev)\n",
    "                     (normal 0 velocity-noise-std-dev))\n",
    "              (point-plus\n",
    "                (point (normal 0 velocity-noise-std-dev)\n",
    "                       (normal 0 velocity-noise-std-dev))\n",
    "                (point-plus \n",
    "                    (agent-acceleration (- time 1))\n",
    "                    (agent-velocity (- time 1))))))\n",
    "          \n",
    "  (defmem (observed-xy view-angle-min view-angle-max viewer-position)\n",
    "          (let ([these-landmarks \n",
    "                 (filter (lambda (lm) \n",
    "                           (in-angle-slice view-angle-min view-angle-max viewer-position lm))\n",
    "                         landmarks)])\n",
    "            (let ([ranges \n",
    "                   (map \n",
    "                    (lambda (lm) (distance-between view-position (landmark-position lm)))\n",
    "                    these-landmarks)])\n",
    "             (let ([closest-landmark (closest-lm ranges these-landmarks)])\n",
    "               (point \n",
    "                (+ (point-x closest-landmark) (normal 0 obs-noise-std-dev))\n",
    "                (+ (point-y closest-landmark) (normal 0 obs-noise-std-dev))))))))\n",
    "               \n",
    "             \n",
    "            \n",
    "          \n",
    "  "
   ]
  },
  {
   "cell_type": "code",
   "execution_count": 29,
   "metadata": {
    "collapsed": false
   },
   "outputs": [
    {
     "data": {
      "text/plain": [
       "+inf.0"
      ]
     },
     "execution_count": 29,
     "metadata": {},
     "output_type": "execute_result"
    }
   ],
   "source": [
    "(define slam-sampler\n",
    "  (smc-sampler\n",
    "    (open-model slam)\n",
    "   \n",
    "  \n",
    "     ))"
   ]
  },
  {
   "cell_type": "code",
   "execution_count": 40,
   "metadata": {
    "collapsed": false
   },
   "outputs": [],
   "source": []
  },
  {
   "cell_type": "code",
   "execution_count": 41,
   "metadata": {
    "collapsed": false
   },
   "outputs": [
    {
     "data": {
      "text/plain": [
       "6"
      ]
     },
     "execution_count": 41,
     "metadata": {},
     "output_type": "execute_result"
    }
   ],
   "source": [
    "(idx-of-min '(1 6 2 4 8 2 0 9))"
   ]
  },
  {
   "cell_type": "code",
   "execution_count": null,
   "metadata": {
    "collapsed": true
   },
   "outputs": [],
   "source": []
  }
 ],
 "metadata": {
  "kernelspec": {
   "display_name": "Racket",
   "language": "racket",
   "name": "racket"
  },
  "language_info": {
   "codemirror_mode": "scheme",
   "file_extension": ".rkt",
   "mimetype": "text/x-racket",
   "name": "Racket",
   "pygments_lexer": "racket",
   "version": "6.1.1"
  }
 },
 "nbformat": 4,
 "nbformat_minor": 0
}
