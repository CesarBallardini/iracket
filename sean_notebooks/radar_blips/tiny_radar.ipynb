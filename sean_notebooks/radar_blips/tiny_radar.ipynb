{
 "cells": [
  {
   "cell_type": "code",
   "execution_count": 18,
   "metadata": {
    "collapsed": true
   },
   "outputs": [],
   "source": [
    "(require gamble\n",
    "         racket/list)"
   ]
  },
  {
   "cell_type": "markdown",
   "metadata": {},
   "source": [
    "#The littlest radar blip problem.\n",
    "\n",
    "This should illustrate the problems of representing uncertainty about existence, number, and origin.\n",
    "\n",
    "I think a reasonable way to generate the blips at each time step is \n",
    "\n",
    "1. generate the real blips, with each airplane having an independent, high probability of generating a blip, which has as its location a noisified version of the generating airplane's true location;\n",
    "2. generate the number of false blips;\n",
    "3. pick a random location for each false blip;\n",
    "4. concatenate the true and false blips; and\n",
    "5. randomly permute the order of the full blip list, to yield the observed blips.\n",
    "\n",
    "We could achive this by randomly permuting the integers 0 to n-1, where n is the total number of blips, and using list-ref to get the right coordinate tuple. \n",
    "\n",
    "To avoid possible type confusion, maybe the airplanes and blips should be data types, or at least gensyms.\n",
    "\n",
    "A trickier variant could have new planes entering the box at random times.\n"
   ]
  },
  {
   "cell_type": "code",
   "execution_count": null,
   "metadata": {
    "collapsed": true
   },
   "outputs": [],
   "source": []
  },
  {
   "cell_type": "code",
   "execution_count": 19,
   "metadata": {
    "collapsed": true
   },
   "outputs": [],
   "source": [
    ";; Worlds--sets of things, represented as integer indices.\n",
    "(defmodel things\n",
    "   (deflazy n-airplanes (poisson 5))\n",
    "   (defmem (n-false-alarms time) (poisson 2))\n",
    "   (deflazy airplanes (range n-airplanes))\n",
    "   (defmem (false-alarms time) (range (n-false-alarms time))))"
   ]
  },
  {
   "cell_type": "code",
   "execution_count": 49,
   "metadata": {
    "collapsed": false
   },
   "outputs": [
    {
     "name": "stdout",
     "output_type": "stream",
     "text": [
      "(0 1 2 3 4 5 6)\n",
      "(0 1)\n"
     ]
    }
   ],
   "source": [
    "(open-model things)\n",
    "(displayln airplanes)\n",
    "(displayln (false-alarms 1))"
   ]
  },
  {
   "cell_type": "markdown",
   "metadata": {},
   "source": [
    "#Airplane dynamics\n",
    "\n",
    "Initial locations (at time 0) are chosen uniformly in a (-1,1) box.  Initial velocities are random normal.\n",
    "\n",
    "Location at time $t$ is location at $t-1$ plus velocity at $t-1$ plus zero-mean noise.\n",
    "\n",
    "Velocity at $t$ is velocity at $t-1$ plus zero-mean noise.\n"
   ]
  },
  {
   "cell_type": "code",
   "execution_count": 20,
   "metadata": {
    "collapsed": true
   },
   "outputs": [],
   "source": [
    "(defmodel dynamics\n",
    "  (define location-noise-std-dev 0.05)\n",
    "  (define velocity-noise-std-dev 0.1)\n",
    "\n",
    "  (defmem (location plane dimension time)\n",
    "          (if (= time 0) \n",
    "              (uniform -1 1)\n",
    "              (normal (+ (location plane dimension (- time 1))\n",
    "                         (velocity plane dimension (- time 1)))\n",
    "                      location-noise-std-dev)))\n",
    "\n",
    "  (defmem (velocity plane dimension time)\n",
    "          (+ (normal 0 velocity-noise-std-dev)\n",
    "              (if (= time -1) \n",
    "                  0\n",
    "                  (velocity plane dimension (- time 1))))))"
   ]
  },
  {
   "cell_type": "markdown",
   "metadata": {},
   "source": [
    "# Observation model\n",
    "\n",
    "This is tricky.  We observe not only the locations of a number of blips, but also the fact there are exactly $n$ of them.  Not sure how to get this in, yet.\n",
    "\n",
    "I'm recalling some insight we had with \"seismic\", that once we sample the number of real observations, the number of false alarms is fixed by our data.  What did we do there? \n"
   ]
  },
  {
   "cell_type": "code",
   "execution_count": 21,
   "metadata": {
    "collapsed": false
   },
   "outputs": [],
   "source": [
    "(defmodel observation\n",
    "    \n",
    "   (open-model things)\n",
    "   (open-model dynamics)\n",
    "          \n",
    "   ;; On each dimension, the observed position will be the true position plus \n",
    "   ;; zero-mean noise.\n",
    "   (define obs-noise-std-dev 0.01)\n",
    "\n",
    "   ;; Each airplane may or may not generate a blip\n",
    "   (define observation-prob 0.9)\n",
    "\n",
    "   ;; Randomly select a subset of planes for observation.\n",
    "   ;; NEEDS \"airplanes\" from \"things\" d-model.\n",
    "   (defmem (observed-planes time)\n",
    "           (filter (lambda (airplane) (flip observation-prob)) airplanes))\n",
    "   \n",
    "   ;; Randomly perturb the true locations of the observed planes to give \n",
    "   ;; observed locations.\n",
    "   ;; NEEDS \"location ...\" from \"dynamics\" d-model.\n",
    "   ;; BAD: this forces evaluation of *all* observations for the dim and time\n",
    "   ;; (over all planes).  \n",
    "   (defmem (observation-blip airplane dimension time)\n",
    "      (normal (location airplane dimension time) obs-noise-std-dev))\n",
    "   \n",
    "   ;; Generate locations for false blips. \n",
    "   ;; NEEDS \"false-alarms\" from \"things\" d-model.\n",
    "   (defmem (hallucination-blip h-number dimension time)\n",
    "           (uniform -1 1))\n",
    "   \n",
    "   ;; Randomly permute indices to assign observations to real or hallucinated\n",
    "   ;; sources\n",
    "   ;; NEEDS \"n-false-alarms\" from \"things\" d-model.\n",
    "   (defmem (blip-order time) \n",
    "           (sample (permutation-dist (+ (length (observed-planes time))\n",
    "                                (n-false-alarms time)))))\n",
    "          \n",
    "   ;; A \"soft\" observation of the number of blips, so we don't throw out too many\n",
    "   ;; rather good blip sets for not matching on exact number.\n",
    "   ;; Ideally, the standard deviation would anneal to near zero.\n",
    "   (defmem (about-how-many-blips time)\n",
    "           (normal (vector-length (blip-order time)) 0.5))\n",
    "          \n",
    "            \n",
    "   ;; Use blip order, observations, and hallucinations to define an observed-blip\n",
    "   ;; function.  \n",
    "   ;; Forces blip-order, which forces observed-planes and n-false-alarms, which can\n",
    "   ;; lead to a blip number that is out of bounds.\n",
    "   ;; ??!!! the act of observing the coordinates of a blip number is an implicit \n",
    "          ;;; observation that there are\n",
    "          ;; at least that many blips!!!!\n",
    "   (define (observed-blip blip-number dimension time)\n",
    "     (let ([raw-idx (vector-ref (blip-order time) blip-number)])\n",
    "       (if (< raw-idx (length (observed-planes time)))\n",
    "           (observation-blip raw-idx dimension time)\n",
    "           (let ([idx (- raw-idx (length (observed-planes time)))])\n",
    "             (hallucination-blip idx dimension time)))))\n",
    "          \n",
    "    (define (blip-source-plane blip-number time)\n",
    "       (let ([raw-idx (vector-ref (blip-order time) blip-number)])\n",
    "           (if (< raw-idx (length (observed-planes time)))\n",
    "               raw-idx\n",
    "               \"false alarm\"))))"
   ]
  },
  {
   "cell_type": "markdown",
   "metadata": {},
   "source": [
    "Let's make sure everything behaves as expected: \n",
    "\n",
    "Ideally, we could test our beliefs not only about the what we expect some variables to look like, but also our beliefs about what variables have and do not have values, having asked for others.  I think this means being able to peek in to the memo tables. I can imagine a standard display for rvs and indexed sets of rvs.  Though textual output might be fine."
   ]
  },
  {
   "cell_type": "code",
   "execution_count": 23,
   "metadata": {
    "collapsed": false
   },
   "outputs": [
    {
     "name": "stdout",
     "output_type": "stream",
     "text": [
      "observed planes for step 3: (0 2 3 4 5 6)\n",
      "\n",
      "observed coordinates of observed planes at step 3:\n",
      "(0.3927818047097665 0.7995508900442223)\n",
      "(0.43072672082268 -0.9303208890547434)\n",
      "(-0.37592817990791705 -0.4322011979362125)\n",
      "(-0.7775057356388749 0.6381384083952282)\n",
      "(-0.49647579038875905 -0.7002570495528102)\n",
      "(-0.8354163917597375 0.5179818294481732)\n",
      "\n",
      "observed coordinates of hallucinated planes at step 3:\n",
      "(-0.30521747411350597 0.5594072026099773)\n",
      "(0.6541575212182394 0.9157708735392294)\n",
      "\n",
      "blip-order for step 3: #(3 5 7 4 0 1 6 2)\n",
      "\n",
      "about how many blips for step 3: 8.30035226792435\n",
      "\n",
      "observed blip locations at step 3:\n",
      "(-0.37592817990791705 -0.4322011979362125)\n",
      "(-0.49647579038875905 -0.7002570495528102)\n",
      "(0.6541575212182394 0.9157708735392294)\n",
      "(-0.7775057356388749 0.6381384083952282)\n",
      "(0.3927818047097665 0.7995508900442223)\n",
      "(-0.3637001156904466 0.3523995445515496)\n",
      "(-0.30521747411350597 0.5594072026099773)\n",
      "(0.43072672082268 -0.9303208890547434)\n",
      "\n",
      "blip sources for blips at step 3:\n",
      "3\n",
      "5\n",
      "false alarm\n",
      "4\n",
      "0\n",
      "1\n",
      "false alarm\n",
      "2\n"
     ]
    },
    {
     "data": {
      "text/plain": [
       "(#<void> #<void> #<void> #<void> #<void> #<void> #<void> #<void>)"
      ]
     },
     "execution_count": 23,
     "metadata": {},
     "output_type": "execute_result"
    }
   ],
   "source": [
    "(open-model observation)\n",
    "\n",
    "(printf \"observed planes for step 3: ~a\\n\" (observed-planes 3))\n",
    "\n",
    "(printf \"\\nobserved coordinates of observed planes at step 3:\\n\")\n",
    "(map (lambda (pair) (printf \"~a\\n\" pair))\n",
    "        (map (lambda (n) \n",
    "               (list (observation-blip n 0 3 ) \n",
    "                     (observation-blip n 1 3))) (observed-planes 3)))\n",
    "\n",
    "(printf \"\\nobserved coordinates of hallucinated planes at step 3:\\n\")\n",
    "(map (lambda (pair) (printf \"~a\\n\" pair))\n",
    "        (map (lambda (n) \n",
    "               (list (hallucination-blip n 0 3 ) \n",
    "                     (hallucination-blip n 1 3))) (false-alarms 3)))\n",
    "\n",
    "(printf \"\\nblip-order for step 3: ~a\\n\" (blip-order 3))\n",
    "\n",
    "(printf \"\\nabout how many blips for step 3: ~a\\n\" (about-how-many-blips 3))\n",
    "\n",
    "(printf \"\\nobserved blip locations at step 3:\\n\")\n",
    "(map (lambda (pair) (printf \"~a\\n\" pair))\n",
    "        (map (lambda (n) (list (observed-blip n 0 3 ) (observed-blip n 1 3)))\n",
    "             (range (vector-length (blip-order 3)))))\n",
    "\n",
    "(printf \"\\nblip sources for blips at step 3:\\n\")\n",
    "(map (lambda (blip-n)\n",
    "       (printf \"~a\\n\" (blip-source-plane blip-n 3)))\n",
    "     (range (vector-length (blip-order 3))))\n"
   ]
  },
  {
   "cell_type": "markdown",
   "metadata": {},
   "source": [
    "#Some data\n",
    "\n",
    "Let's have blip data in a table (list of lists) with columns \"time\", \"blip number\", \"x\", and \"y\".  \n",
    "\n",
    "Four real planes are in play: \n",
    "\n",
    "1. Starts at the top left ((-1,1)) and moves right and slightly down.\n",
    "2. Starts at the origin and moves right and up.\n",
    "3. Starts at (1,0) and moves left and down.\n",
    "4. Starts at (1,-1) and moves left and up.\n",
    "\n",
    "Zero to three hallucinations are thrown in on each time step.\n",
    "\n",
    "A function in the sampler makes an observation about the number of blips at each time, and a pair of observations for each blip's x and y coordinates at each time."
   ]
  },
  {
   "cell_type": "code",
   "execution_count": 22,
   "metadata": {
    "collapsed": false
   },
   "outputs": [],
   "source": [
    "(define blip-data\n",
    "  '((1 2 -1.0 0.99)\n",
    "    (1 1 -0.01 -0.02)\n",
    "    (1 3 0.99 0.001)\n",
    "    (1 5 0.985 -0.99)\n",
    "    (1 4 -0.9 0.2)\n",
    "    \n",
    "    (2 5 -0.96 0.97)\n",
    "    (2 2 0.01 0.03)\n",
    "    (2 6 0.96 -0.01)\n",
    "    (2 3 0.97 -0.95)\n",
    "    (2 4 -0.4 0.86)\n",
    "    (2 1 0.2 0.67)\n",
    "    \n",
    "    (3 4 -0.9 0.91)\n",
    "    (3 2 0.05 0.08)\n",
    "    (3 3 0.91 -0.055)\n",
    "    (3 1 0.92 -0.9)\n",
    "    (3 5 0.2 -0.6)\n",
    "    \n",
    "    (4 6 -0.84 0.87)\n",
    "    (4 3 0.09 0.11)\n",
    "    (4 1 0.88 -0.15)\n",
    "    (4 5 0.85 -0.84)\n",
    "    (4 4 -0.2 0.99)\n",
    "    (4 2 -0.5 -0.9)\n",
    "    \n",
    "    (5 1 -0.8 0.834)\n",
    "    (5 2 0.13 0.17)\n",
    "    (5 3 0.84 -0.19)\n",
    "    (5 4 0.8 -0.8)\n",
    "    (5 5 0.3 0.7)\n",
    "    \n",
    "    ))\n",
    "\n",
    "(define times (sort (remove-duplicates (map first blip-data)) <))\n",
    "\n",
    "\n",
    "(define (blips-for t)\n",
    "  (filter (lambda (b) (= (first b) t)) blip-data))\n",
    "\n",
    "(define (n-blips t)\n",
    "  (length (blips-for t)))\n",
    "\n",
    "(define blip-n (lambda (blp) (- (second blp) 1)))\n",
    "(define x-val third)\n",
    "(define y-val fourth)"
   ]
  },
  {
   "cell_type": "markdown",
   "metadata": {},
   "source": [
    "#The sampler\n",
    "\n",
    "What would we like to find out, given our blip sequence?\n",
    "\n",
    "1. Which blips are hallucinations (probably) and which are real?\n",
    "2. Which blips from different times are generated by the same object? [hard]\n",
    "\n",
    "Because of symmetries (...more), it won't do to query for which plane blips are generated by.  It is more robust (if more costly and verbose) to ask which blips in consecutive time steps are generated by the same object (whichever that is).  We're going to need a function to get the source object for a blip. [done--check]\n",
    "\n",
    "We could show a sequence of plots, each of which shows \n",
    "1. The blips recieved at that time, each color-coded for probability of true (blue) vs. hallucinated (red). For this, we need to save out the source of each blip, on each sample.\n",
    "2. The estimated position of each numbered aircraft--just a cloud of dots, for now, since the numbers are not identifiable.  For this, we need to save out a list (of variable length) of all the airplane locations, on each sample. We aren't averaging these, so the variable length should not be a problem.\n",
    "\n"
   ]
  },
  {
   "cell_type": "code",
   "execution_count": 23,
   "metadata": {
    "collapsed": false
   },
   "outputs": [],
   "source": [
    "(define radar-sampler\n",
    "  (mh-sampler\n",
    "   \n",
    "   (open-model observation) ; this opens \"things\" and \"dynamics\"\n",
    "   \n",
    "   (for ([t times])\n",
    "     (begin\n",
    "       (observe (+ (length (observed-planes t)) (n-false-alarms t)) (n-blips t))\n",
    "       (for ([blp (blips-for t)])\n",
    "         (observe (observed-blip (blip-n blp) 0 t) (x-val blp))\n",
    "         (observe (observed-blip (blip-n blp) 1 t) (y-val blp)))))\n",
    "\n",
    "   \n",
    "   (location 0 0 1)))\n",
    "   "
   ]
  },
  {
   "cell_type": "code",
   "execution_count": 24,
   "metadata": {
    "collapsed": false
   },
   "outputs": [
    {
     "data": {
      "text/plain": [
       "#(-0.17465999243333902 -0.17465999243333902 -0.17465999243333902 -0.17465999243333902 -0.17465999243333902 -0.17465999243333902 -0.17465999243333902 -0.17465999243333902 -0.17465999243333902 -0.16636515198044283)"
      ]
     },
     "execution_count": 24,
     "metadata": {},
     "output_type": "execute_result"
    }
   ],
   "source": [
    "(generate-samples radar-sampler 10 #:burn 10 #:thin 10)"
   ]
  },
  {
   "cell_type": "code",
   "execution_count": null,
   "metadata": {
    "collapsed": true
   },
   "outputs": [],
   "source": [
    ";; junk\n",
    "   (defmem (source-plane blip)\n",
    "           (let ([p-real (/ n-airplanes (+ n-airplanes (n-false-alarms))])\n",
    "             (if (flip p-real) (discrete n-airplanes) \"false alarm\")))\n",
    "   (defmem (blip-location blip dimension)\n",
    "           (let ([s (source-plane blip)])\n",
    "             (if (string=? s \"false alarm\")\n",
    "                 (uniform -1 1)\n",
    "                 (normal (location s dimension (time-of blip)) 0.01))))\n",
    "                         \n",
    "                         \n",
    "                         \n",
    "   (observe (+ (length (observed-planes 1)) (n-false-alarms 1)) 5)\n",
    "   \n",
    "   (observe (observed-blip 0 0 1) 0.5)\n",
    "   (observe (observed-blip 0 1 1) 0.7)\n",
    "   (observe (observed-blip 1 0 1) -0.5)\n",
    "   (observe (observed-blip 1 1 1) -0.2)\n",
    "   (observe (observed-blip 2 0 1) 0.15)\n",
    "   (observe (observed-blip 2 1 1) 0.79)\n",
    "   (observe (observed-blip 3 0 1) -0.95)\n",
    "   (observe (observed-blip 3 1 1) -0.02)\n",
    "   \n",
    "   (observe (+ (length (observed-planes 2)) (n-false-alarms 2)) 5)\n",
    "   ;(observe (about-how-many-blips 2) 7)\n",
    "   (observe (observed-blip 0 0 2) 0.53)\n",
    "   (observe (observed-blip 0 1 2) 0.67)\n",
    "   (observe (observed-blip 3 0 2) -0.45)\n",
    "   (observe (observed-blip 3 1 2) -0.22)\n",
    "   (observe (observed-blip 1 0 2) 0.18)\n",
    "   (observe (observed-blip 1 1 2) 0.89)\n",
    "   (observe (observed-blip 2 0 2) -0.85)\n",
    "   (observe (observed-blip 2 1 2) -0.11)"
   ]
  },
  {
   "cell_type": "code",
   "execution_count": 31,
   "metadata": {
    "collapsed": false
   },
   "outputs": [
    {
     "data": {
      "text/plain": [
       "(2 3 5)"
      ]
     },
     "execution_count": 31,
     "metadata": {},
     "output_type": "execute_result"
    }
   ],
   "source": [
    "(sort (remove-duplicates '(5 2 3 3 5 2 3)) <)"
   ]
  },
  {
   "cell_type": "code",
   "execution_count": null,
   "metadata": {
    "collapsed": true
   },
   "outputs": [],
   "source": []
  }
 ],
 "metadata": {
  "kernelspec": {
   "display_name": "Racket",
   "language": "racket",
   "name": "racket"
  },
  "language_info": {
   "codemirror_mode": "scheme",
   "file_extension": ".rkt",
   "mimetype": "text/x-racket",
   "name": "Racket",
   "pygments_lexer": "racket",
   "version": "6.1.1"
  }
 },
 "nbformat": 4,
 "nbformat_minor": 0
}
