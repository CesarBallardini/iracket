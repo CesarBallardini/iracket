{
 "cells": [
  {
   "cell_type": "markdown",
   "metadata": {},
   "source": [
    "#Generic plot utility\n",
    "\n",
    "Assumes that <code>xs</code> and <code>ys</code> are lists."
   ]
  },
  {
   "cell_type": "code",
   "execution_count": 1,
   "metadata": {
    "collapsed": false,
    "scrolled": true
   },
   "outputs": [],
   "source": [
    "(require gamble\n",
    "         \"c3_helpers.rkt\")\n",
    "\n"
   ]
  },
  {
   "cell_type": "markdown",
   "metadata": {},
   "source": [
    "#Scatter plot\n",
    "\n",
    "The default type."
   ]
  },
  {
   "cell_type": "code",
   "execution_count": 2,
   "metadata": {
    "collapsed": false
   },
   "outputs": [
    {
     "data": {
      "application/x-c3-data": [
       "{\"data\":{\"type\":\"scatter\",\"xs\":{\"ys1\":\"xs1\"},\"columns\":[[\"xs1\",1,2,3,4,5,5.5,6],[\"ys1\",8.2,7,5,4,3,2.5,0.9]]},\"axis\":{\"x\":{\"label\":\"cans of spinach consumed\"},\"y\":{\"label\":\"fights lost to Bluto\"}}}"
      ],
      "text/plain": [
       "(c3-data . #hasheq((data . #hasheq((type . scatter) (xs . #hasheq((ys1 . xs1))) (columns . ((xs1 1 2 3 4 5 5.5 6) (ys1 8.2 7 5 4 3 2.5 0.9))))) (axis . #hasheq((x . #hasheq((label . cans of spinach consumed))) (y . #hasheq((label . fights lost to Bluto)))))))"
      ]
     },
     "execution_count": 2,
     "metadata": {},
     "output_type": "execute_result"
    }
   ],
   "source": [
    "(scatter-c3 '(1 2 3 4 5 5.5 6) '(8.2 7 5 4 3 2.5 0.9) \n",
    "            #:xlabel \"cans of spinach consumed\" #:ylabel \"fights lost to Bluto\")"
   ]
  },
  {
   "cell_type": "markdown",
   "metadata": {},
   "source": [
    "#Line plot\n",
    "\n",
    "The old standby. "
   ]
  },
  {
   "cell_type": "code",
   "execution_count": 3,
   "metadata": {
    "collapsed": false
   },
   "outputs": [
    {
     "data": {
      "application/x-c3-data": [
       "{\"data\":{\"type\":\"line\",\"xs\":{\"ys1\":\"xs1\"},\"columns\":[[\"xs1\",1,2,3,4,5,5.5,6],[\"ys1\",8.2,7,5,4,3,2.5,0.9]]},\"axis\":{\"x\":{\"label\":\"cans of spinach consumed\"},\"y\":{\"label\":\"fights lost to Bluto\"}}}"
      ],
      "text/plain": [
       "(c3-data . #hasheq((data . #hasheq((type . line) (xs . #hasheq((ys1 . xs1))) (columns . ((xs1 1 2 3 4 5 5.5 6) (ys1 8.2 7 5 4 3 2.5 0.9))))) (axis . #hasheq((x . #hasheq((label . cans of spinach consumed))) (y . #hasheq((label . fights lost to Bluto)))))))"
      ]
     },
     "execution_count": 3,
     "metadata": {},
     "output_type": "execute_result"
    }
   ],
   "source": [
    "(line-c3 '(1 2 3 4 5 5.5 6) '(8.2 7 5 4 3 2.5 0.9) \n",
    "            #:xlabel \"cans of spinach consumed\" #:ylabel \"fights lost to Bluto\")"
   ]
  },
  {
   "cell_type": "markdown",
   "metadata": {},
   "source": [
    "#Bar chart\n",
    "\n",
    "Looks lousy unless xs are evenly-spaced.\n",
    "\n",
    "TODO: figure out how to customize the x tick labels."
   ]
  },
  {
   "cell_type": "code",
   "execution_count": 4,
   "metadata": {
    "collapsed": false,
    "scrolled": true
   },
   "outputs": [
    {
     "data": {
      "application/x-c3-data": [
       "{\"data\":{\"type\":\"bar\",\"xs\":{\"ys1\":\"xs1\"},\"columns\":[[\"xs1\",1,2,3,4,5,5.5,6],[\"ys1\",8.2,7,5,4,3,2.5,0.9]]},\"axis\":{\"x\":{\"label\":\"cans of spinach consumed\"},\"y\":{\"label\":\"fights lost to Bluto\"}}}"
      ],
      "text/plain": [
       "(c3-data . #hasheq((data . #hasheq((type . bar) (xs . #hasheq((ys1 . xs1))) (columns . ((xs1 1 2 3 4 5 5.5 6) (ys1 8.2 7 5 4 3 2.5 0.9))))) (axis . #hasheq((x . #hasheq((label . cans of spinach consumed))) (y . #hasheq((label . fights lost to Bluto)))))))"
      ]
     },
     "execution_count": 4,
     "metadata": {},
     "output_type": "execute_result"
    }
   ],
   "source": [
    "(bar-c3 '(1 2 3 4 5 5.5 6) '(8.2 7 5 4 3 2.5 0.9) \n",
    "            #:xlabel \"cans of spinach consumed\" #:ylabel \"fights lost to Bluto\")"
   ]
  },
  {
   "cell_type": "markdown",
   "metadata": {},
   "source": [
    "#Histogram\n",
    "\n",
    "A special kind of bar chart, with a little arithmetic up front..."
   ]
  },
  {
   "cell_type": "code",
   "execution_count": null,
   "metadata": {
    "collapsed": true
   },
   "outputs": [],
   "source": []
  },
  {
   "cell_type": "markdown",
   "metadata": {},
   "source": [
    "<code>sbs-hist-vals</code> returns a list containing three lists:\n",
    "1. <code>bin-edges</code>, of length one greater than the optional input, <code>n-bins</code>.  For $i$ less than or equal to <code>n-bins</code>, the $i$th element is the (inclusive) lower bound of the $i$th bin.  The last element is the upper bound of the <code>n-bins</code>-th bin.  All upper bounds are non-inclusive (strictly less than).\n",
    "2. <code>bin-centers</code>, of length <code>n-bins</code>.  The $i$-th element is the average of the lower and upper bounds of of bin $i$.\n",
    "3. <code>counts</code>, the $i$th element of which is the number of elements of <code>vals</code> in the $i$th bin."
   ]
  },
  {
   "cell_type": "code",
   "execution_count": null,
   "metadata": {
    "collapsed": false
   },
   "outputs": [],
   "source": [
    "\n",
    "\n"
   ]
  },
  {
   "cell_type": "code",
   "execution_count": null,
   "metadata": {
    "collapsed": false
   },
   "outputs": [],
   "source": []
  },
  {
   "cell_type": "code",
   "execution_count": 5,
   "metadata": {
    "collapsed": false,
    "scrolled": true
   },
   "outputs": [
    {
     "data": {
      "application/x-c3-data": [
       "{\"data\":{\"type\":\"bar\",\"xs\":{\"counts\":\"xs1\"},\"columns\":[[\"xs1\",0.15134236746281898,0.44665872716283855,0.741975086862858,1.0372914465628775,1.3326078062628972,1.6279241659629167,1.9232405256629361,2.2185568853629554,2.513873245062975,2.8091896047629943,3.104505964463014,3.3998223241630336,3.695138683863053,3.9904550435630726,4.285771403263093],[\"counts\",23,21,17,8,9,5,2,3,3,3,1,0,2,1,2]]},\"axis\":{\"x\":{\"label\":\"values\",\"tick\":{\"values\":[0.0,0.3,0.59,0.89,1.18,1.48,1.78,2.07,2.37,2.66,2.96,3.25,3.55,3.84,4.14,4.43],\"rotate\":90}},\"y\":{\"label\":\"counts\"}}}"
      ],
      "text/plain": [
       "(c3-data . #hasheq((data . #hasheq((type . bar) (xs . #hasheq((counts . xs1))) (columns . ((xs1 0.15134236746281898 0.44665872716283855 0.741975086862858 1.0372914465628775 1.3326078062628972 1.6279241659629167 1.9232405256629361 2.2185568853629554 2.513873245062975 2.8091896047629943 3.104505964463014 3.3998223241630336 3.695138683863053 3.9904550435630726 4.285771403263093) (counts 23 21 17 8 9 5 2 3 3 3 1 0 2 1 2))))) (axis . #hasheq((x . #hasheq((label . values) (tick . #hasheq((values . (0.0 0.3 0.59 0.89 1.18 1.48 1.78 2.07 2.37 2.66 2.96 3.25 3.55 3.84 4.14 4.43)) (rotate . 90))))) (y . #hasheq((label . counts)))))))"
      ]
     },
     "execution_count": 5,
     "metadata": {},
     "output_type": "execute_result"
    }
   ],
   "source": [
    "(require math/distributions)\n",
    "(hist-c3 (sample (exponential-dist) 100))"
   ]
  },
  {
   "cell_type": "markdown",
   "metadata": {},
   "source": [
    "#Multiple plots \n",
    "\n",
    "Blah blah..."
   ]
  },
  {
   "cell_type": "code",
   "execution_count": 6,
   "metadata": {
    "collapsed": false
   },
   "outputs": [
    {
     "data": {
      "application/x-c3-data": [
       "{\"data\":{\"type\":\"line\",\"xs\":{\"ys1\":\"xs1\",\"ys0\":\"xs0\"},\"columns\":[[\"xs0\",5,6,7,8],[\"xs1\",5.5,6,7.5,8],[\"ys0\",9,8,6,4],[\"ys1\",10,12,13,14.7]]},\"axis\":{\"x\":{\"label\":\"x\"},\"y\":{\"label\":\"y\"}}}"
      ],
      "text/plain": [
       "(c3-data . #hasheq((data . #hasheq((type . line) (xs . #hasheq((ys1 . xs1) (ys0 . xs0))) (columns . ((xs0 5 6 7 8) (xs1 5.5 6 7.5 8) (ys0 9 8 6 4) (ys1 10 12 13 14.7))))) (axis . #hasheq((x . #hasheq((label . x))) (y . #hasheq((label . y)))))))"
      ]
     },
     "execution_count": 6,
     "metadata": {},
     "output_type": "execute_result"
    }
   ],
   "source": [
    "(multi-line-c3 '((5 6 7 8) (5.5 6 7.5 8)) '((9 8 6 4) (10 12 13 14.7)))"
   ]
  },
  {
   "cell_type": "code",
   "execution_count": null,
   "metadata": {
    "collapsed": false
   },
   "outputs": [],
   "source": []
  },
  {
   "cell_type": "markdown",
   "metadata": {},
   "source": [
    "TODO: \n",
    "1. Hide the endpoint dots on the regression lines. \"point\" isn't working as expected.\n",
    "2. Make all the regression lines light grey.\n",
    "3. Make only one legend entry for all regression lines (or kill the legend entirely)."
   ]
  },
  {
   "cell_type": "code",
   "execution_count": 7,
   "metadata": {
    "collapsed": false
   },
   "outputs": [
    {
     "data": {
      "application/x-c3-data": [
       "{\"data\":{\"type\":\"line\",\"types\":{\"true-ys\":\"scatter\"},\"xs\":{\"true-ys\":\"true-xs\",\"ys1\":\"xs1\",\"ys0\":\"xs0\",\"ys2\":\"xs2\",\"ys3\":\"xs3\",\"ys4\":\"xs4\",\"ys5\":\"xs5\",\"ys6\":\"xs6\"},\"columns\":[[\"true-xs\",1,3,4,7,8,9],[\"true-ys\",4,4.1,5.5,6,7,6.6],[\"xs0\",0,10],[\"xs1\",0,10],[\"xs2\",0,10],[\"xs3\",0,10],[\"xs4\",0,10],[\"xs5\",0,10],[\"xs6\",0,10],[\"ys0\",3,7],[\"ys1\",4,6.1],[\"ys2\",3.5,6.8],[\"ys3\",3.2,6.6],[\"ys4\",3.38,7],[\"ys5\",3.3,6.25],[\"ys6\",3.6,6.7]]},\"axis\":{\"x\":{\"label\":\"x\"},\"y\":{\"label\":\"y\"}},\"point\":{\"show\":\"false\"}}"
      ],
      "text/plain": [
       "(c3-data . #hasheq((data . #hasheq((type . line) (types . #hasheq((true-ys . scatter))) (xs . #hasheq((true-ys . true-xs) (ys1 . xs1) (ys0 . xs0) (ys2 . xs2) (ys3 . xs3) (ys4 . xs4) (ys5 . xs5) (ys6 . xs6))) (columns . ((true-xs 1 3 4 7 8 9) (true-ys 4 4.1 5.5 6 7 6.6) (xs0 0 10) (xs1 0 10) (xs2 0 10) (xs3 0 10) (xs4 0 10) (xs5 0 10) (xs6 0 10) (ys0 3 7) (ys1 4 6.1) (ys2 3.5 6.8) (ys3 3.2 6.6) (ys4 3.38 7) (ys5 3.3 6.25) (ys6 3.6 6.7))))) (axis . #hasheq((x . #hasheq((label . x))) (y . #hasheq((label . y))))) (point . #hasheq((show . false)))))"
      ]
     },
     "execution_count": 7,
     "metadata": {},
     "output_type": "execute_result"
    }
   ],
   "source": [
    "(multi-reg-line-plus-scatter-c3 \n",
    " '((0 10) (0 10) (0 10) (0 10) (0 10) (0 10) (0 10)) \n",
    " '((3 7) (4 6.1) (3.5 6.8) (3.2 6.6) (3.38 7) (3.3 6.25) (3.6 6.7)) \n",
    " '(1 3 4 7 8 9) \n",
    " '(4 4.1 5.5 6 7 6.6))"
   ]
  },
  {
   "cell_type": "code",
   "execution_count": null,
   "metadata": {
    "collapsed": true
   },
   "outputs": [],
   "source": []
  }
 ],
 "metadata": {
  "kernelspec": {
   "display_name": "Racket",
   "language": "racket",
   "name": "racket"
  },
  "language_info": {
   "codemirror_mode": "scheme",
   "file_extension": ".rkt",
   "mimetype": "text/x-racket",
   "name": "Racket",
   "pygments_lexer": "racket",
   "version": "6.1.1"
  }
 },
 "nbformat": 4,
 "nbformat_minor": 0
}
