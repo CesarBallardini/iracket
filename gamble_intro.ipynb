{
 "cells": [
  {
   "cell_type": "markdown",
   "metadata": {},
   "source": [
    "#Getting started with probabilistic programming in Gamble\n",
    "\n",
    "\n",
    "\n",
    "This document introduces the basic ideas of probabilistic programming using Gamble, and\n",
    "provides lots of small examples as starting points for your own projects.  You can tweak and re-run all the code blocks.\n",
    "\n",
    "This primary author of this introduction is Sean Stromsten (<mail>sean.stromsten@baesystems.com</mail>), who welcomes bug reports and suggestions for improvement.\n",
    "\n",
    "## Prerequisites\n",
    "This material assumes that you \n",
    "are familiar with elementary probability theory, that you\n",
    "know how to program in some language, and that you are at least a little bit\n",
    "familiar with the Scheme programming language.  If your probability is\n",
    "rusty, there are nice reviews \n",
    "[here](http://cs229.stanford.edu/section/cs229-prob.pdf) and\n",
    "[here](http://www.math.wisc.edu/~anderson/605F11/Notes/StochBioChapter2.pdf).\n",
    "For a more leisurely discussion, with a focus on the Bayesian perspective, and some \n",
    "modeling examples, click\n",
    "[here](http://cocosci.berkeley.edu/tom/papers/bayeschapter.pdf).\n",
    " For help with Scheme, and, in particular,\n",
    "the Racket dialect spoken here, \n",
    "[this](http://docs.racket-lang.org/guide/index.html) is a good place to start.\n",
    "\n",
    "[TOC]\n"
   ]
  },
  {
   "cell_type": "markdown",
   "metadata": {},
   "source": [
    "## Contents\n",
    "\n",
    "* [What is probabilistic programming and why do we need it?](#What is probabilistic programming and why do we need it?)\n",
    "* [Inference algorithms](#Inference algorithms)\n",
    "* [Beyond coin flips](#Beyond coin flips)\n",
    "* [Indexed sets of random variables](#Indexed sets of random variables)\n",
    "\n",
    "\n",
    "\n"
   ]
  },
  {
   "cell_type": "markdown",
   "metadata": {},
   "source": [
    "# What is probabilistic programming and why do we need it?\n",
    "\n",
    "##What is probabilistic programming?\n",
    "\n",
    "Computer programs are a familiar and flexible way to represent processes, and running those programs repeatedly is a straightforward way to simulate those processes. Like any other formal mathematical **model**, a model in program form abstracts away (currently) unimportant details so that we can describe the \n",
    "essentials of a system, and derive properties that were not obvious without the model. A computer program is a model with the additional virtue of being **executable**.  \n",
    "\n",
    "A *probabilistic* (or *stochastic*) model is a model that includes random elements. \n",
    "Probabilistic models are incredibly useful, even though truly probablistic systems are rare (even coin flips and dice rolls are deterministic, given enough information). The probabilistic parts are **summaries of our ignorance** \n",
    "of the many factors that we would have to know precisely to model (e.g.) coin flipping as deterministic.\n",
    "\n",
    "Given that\n",
    "all popular programming languages include procedures for drawing (pseudo-)random\n",
    "numbers, programs can easily represent random processes, including complex, multi-step\n",
    "processes with both random and deterministic parts.  We will call \n",
    "programs with random expressions \"probabilistic programs\" (PPs, for short).  So,\n",
    "\n",
    ">**Probabilistic programs are programs with random components.** (But that's not all...)\n",
    "\n",
    "\n",
    "We can think of a complete program as a procedure (often one that takes no arguments).  Running this program\n",
    "many times will produce a sample resembling the probability distribution over executions\n",
    "defined by the program.\n",
    "\n",
    "\n",
    "### First Gamble example: fair coin flips\n",
    "\n",
    "\n",
    "**Note:** when you first open a new notebook, it's a *Racket* notebook.  Racket is the language (or language-building toolkit) in which Gamble is defined.  To make it possible to run Gamble programs, the first thing you will want to do is this:"
   ]
  },
  {
   "cell_type": "code",
   "execution_count": null,
   "metadata": {
    "collapsed": true
   },
   "outputs": [],
   "source": [
    "(require gamble)\n"
   ]
  },
  {
   "cell_type": "markdown",
   "metadata": {},
   "source": [
    "If you don't evaluate a <code>(require gamble)</code> expression first, you won't be able to evaluate any Gamble code.\n",
    "\n",
    "With that bit of plumbing taken care of, consider the simplest\n",
    "probabilistic \"process\": a single coin toss.  We can model it with a random variable that\n",
    "takes on the values $\\verb+#t+$ and $\\verb+#f+$ (Racket's Boolean values) with equal probability.  We represent this \"system\" with the smallest possible Gamble program:"
   ]
  },
  {
   "cell_type": "code",
   "execution_count": 3,
   "metadata": {
    "collapsed": false
   },
   "outputs": [
    {
     "data": {
      "text/plain": [
       "#t"
      ]
     },
     "execution_count": 3,
     "metadata": {},
     "output_type": "execute_result"
    }
   ],
   "source": [
    "(flip)"
   ]
  },
  {
   "cell_type": "markdown",
   "metadata": {},
   "source": [
    "If we run this program many times, it will return $\\verb+#t+$ about half \n",
    "the time and $\\verb+#f+$ the other half.  The program below flips the coin\n",
    "100 times and counts the $\\verb+#t+$s:"
   ]
  },
  {
   "cell_type": "code",
   "execution_count": 4,
   "metadata": {
    "collapsed": false
   },
   "outputs": [
    {
     "data": {
      "text/plain": [
       "44"
      ]
     },
     "execution_count": 4,
     "metadata": {},
     "output_type": "execute_result"
    }
   ],
   "source": [
    "(length \n",
    " (filter (lambda (x) x)\n",
    "         (repeat flip 100)))"
   ]
  },
  {
   "cell_type": "markdown",
   "metadata": {},
   "source": [
    "That's pretty much the \"Hello, world!\" of probabilistic programming.  Here's the line-by-line breakdown: <code>repeat</code> executes the thunk (that's a procedure that takes no arguments) passed in as its first argument $n$ times, where $n$ is an integer value passed in as the second argument.  <code>filter</code> runs a predicate (first argument) over a list (second argument), and returns just those elements of the list for which the predicate evaluates to <code>#t</code>.  If you haven't seen it before, you can probably guess what <code>length</code> does.\n",
    "\n",
    "<code>flip</code> is one of about 20 primitive distibutions, which can be composed with each other and with other (pure) Racket constructs to make Gamble models.\n",
    "\n",
    "There is another primitive distribution very much like <code>flip</code>, except that it yields 0 or 1 instead of <code>#t</code> or <code>#f</code>."
   ]
  },
  {
   "cell_type": "code",
   "execution_count": 7,
   "metadata": {
    "collapsed": false
   },
   "outputs": [
    {
     "data": {
      "text/plain": [
       "0"
      ]
     },
     "execution_count": 7,
     "metadata": {},
     "output_type": "execute_result"
    },
    {
     "name": "stdout",
     "output_type": "stream",
     "text": []
    },
    {
     "name": "stderr",
     "output_type": "stream",
     "text": []
    }
   ],
   "source": [
    "(bernoulli)"
   ]
  },
  {
   "cell_type": "markdown",
   "metadata": {},
   "source": [
    "<code>flip</code> is useful for random variables used as conditions in <code>if</code> expressions, but counts and averages of many \"flips\" are easier with <code>bernoulli</code>.\n"
   ]
  },
  {
   "cell_type": "code",
   "execution_count": 9,
   "metadata": {
    "collapsed": false
   },
   "outputs": [
    {
     "data": {
      "text/plain": [
       "53"
      ]
     },
     "execution_count": 9,
     "metadata": {},
     "output_type": "execute_result"
    },
    {
     "name": "stdout",
     "output_type": "stream",
     "text": []
    },
    {
     "name": "stderr",
     "output_type": "stream",
     "text": []
    }
   ],
   "source": [
    "(apply + (repeat bernoulli 100))"
   ]
  },
  {
   "cell_type": "markdown",
   "metadata": {},
   "source": [
    "### Gluing primitive distributions together\n",
    "\n",
    "Bigger computer programs are composed of smaller ones.  So are Gamble programs representing complex joint probability distributions.  \n",
    "\n",
    "<code>flip</code> and <code>bernoulli</code>, above, are passed no arguments, and default to equal probability for both outcomes.  If all variables in a joint distribution are produced by procedures of no arguments, there are no attachement points between variables, so no interesting joint distribution can be constructed.  If we think in terms of cause and effect (a risky but useful heuristic), the zero-argument version of <code>flip</code> is an isolated event, without cause.  It feels no pain.  It never cries.\n",
    "\n",
    "<code>flip</code> can take a bias argument to make a \n",
    "\"trick coin\"."
   ]
  },
  {
   "cell_type": "code",
   "execution_count": 13,
   "metadata": {
    "collapsed": false
   },
   "outputs": [
    {
     "data": {
      "text/plain": [
       "#t"
      ]
     },
     "execution_count": 13,
     "metadata": {},
     "output_type": "execute_result"
    },
    {
     "name": "stdout",
     "output_type": "stream",
     "text": []
    },
    {
     "name": "stderr",
     "output_type": "stream",
     "text": []
    }
   ],
   "source": [
    "(flip 0.9)"
   ]
  },
  {
   "cell_type": "markdown",
   "metadata": {},
   "source": [
    "When procedures with parameters are (or contain) random choices, like <code>flip</code>, they represent *conditional* distributions--that is, functions from \n",
    "arguments (here, a coin's bias towards <code>#t</code>) to\n",
    "distributions (or samplers of distributions).\n",
    "\n",
    "If we flip such a coin many times, it behaves just as you'd expect."
   ]
  },
  {
   "cell_type": "code",
   "execution_count": 10,
   "metadata": {
    "collapsed": false
   },
   "outputs": [
    {
     "data": {
      "text/plain": [
       "85"
      ]
     },
     "execution_count": 10,
     "metadata": {},
     "output_type": "execute_result"
    }
   ],
   "source": [
    "(length \n",
    "  (filter (lambda (x) x)\n",
    "          (repeat (lambda () (flip 0.9)) 100)))"
   ]
  },
  {
   "cell_type": "markdown",
   "metadata": {},
   "source": [
    "\n",
    "Syntax aside: the expression is uglier than it was for zero-argument version of <code>flip</code>, because <code>repeat</code> requires \n",
    "as its first argument a thunk that can be evaluated to produce a sample.  <code>(flip 0.9)</code>, without\n",
    "the enclosing lambda, is not a thunk, but, rather, just a single value--either <code>#t</code> or <code>#f</code>.  We could use a few defines to make this less ugly:\n",
    "\n"
   ]
  },
  {
   "cell_type": "code",
   "execution_count": 14,
   "metadata": {
    "collapsed": false
   },
   "outputs": [
    {
     "data": {
      "text/plain": [
       "91"
      ]
     },
     "execution_count": 14,
     "metadata": {},
     "output_type": "execute_result"
    }
   ],
   "source": [
    "(define (flip-mostly-heads-coin) (flip 0.9))\n",
    "\n",
    "(define (is-true? x) x)\n",
    "\n",
    "(length (filter is-true? (repeat flip-mostly-heads-coin 100)))"
   ]
  },
  {
   "cell_type": "markdown",
   "metadata": {},
   "source": [
    "\n",
    "Above, we reached in and set the bias parameter ourselves, but the bias itself could be a random choice.   Here is a Gamble program that actually **links** several random variables, by sharing a bias variable <code>coin-weight</code> across the two <code>flip</code> expressions:\n"
   ]
  },
  {
   "cell_type": "code",
   "execution_count": 5,
   "metadata": {
    "collapsed": false
   },
   "outputs": [
    {
     "data": {
      "text/plain": [
       "(#f #f)"
      ]
     },
     "execution_count": 5,
     "metadata": {},
     "output_type": "execute_result"
    }
   ],
   "source": [
    "(define (two-weighted-flips) \n",
    "  (let ([coin-weight (uniform 0 1)])\n",
    "  (list (flip coin-weight) (flip coin-weight))))\n",
    "\n",
    "(two-weighted-flips)"
   ]
  },
  {
   "cell_type": "markdown",
   "metadata": {},
   "source": [
    "<code>two-weighted-flips</code> doesn't look like much, but it's actually a big step.  Finding out the value of a coin flip, here, tells us something about the coin weight, and vice versa.  This process of incorporating observations of some variables to (rationally) change beliefs about other, *un*observed variables--*inference*--is where things gets tricky.\n",
    "\n",
    "## Why do we need anything new?\n",
    "\n",
    "So far, we haven't done \n",
    "anything we couldn't have done in just about any existing \n",
    "programming language. But inference is where probabilistic programming in ordinary programming languages fails.\n",
    "  \n",
    "In short **sampling from the possible executions of the process doesn't\n",
    "solve the kinds of problems people usually want to solve**. \n",
    "\n",
    "Sure, *some* inferences are easy.  We can easily sample many values of <code>two-weighted-flips</code>, and look at (say) the proportion of heads on the second flip, or the proportion of the time the two flips are equal.  "
   ]
  },
  {
   "cell_type": "code",
   "execution_count": 18,
   "metadata": {
    "collapsed": false
   },
   "outputs": [
    {
     "data": {
      "text/plain": [
       "67"
      ]
     },
     "execution_count": 18,
     "metadata": {},
     "output_type": "execute_result"
    }
   ],
   "source": [
    "(require racket/list)\n",
    "\n",
    "(length\n",
    " (filter (lambda (ht-list)\n",
    "           (equal? (first ht-list)\n",
    "               (second ht-list))) (repeat two-weighted-flips 100)))"
   ]
  },
  {
   "cell_type": "markdown",
   "metadata": {},
   "source": [
    "The <code>(require racket/list)</code> is so I can use <code>first</code> and <code>second</code>, which I prefer to the antique lisp forms <code>car</code> and <code>cadr</code>.\n",
    "\n",
    "We can also easily sample from the model in which a \"root\" random variable--in this case,the coin weight--has been observed.  This is just requires a bit of surgery, replacing the random draw of the weight with assignment to a fixed value:"
   ]
  },
  {
   "cell_type": "code",
   "execution_count": 23,
   "metadata": {
    "collapsed": false
   },
   "outputs": [
    {
     "data": {
      "text/plain": [
       "(#t #t)"
      ]
     },
     "execution_count": 23,
     "metadata": {},
     "output_type": "execute_result"
    }
   ],
   "source": [
    "(define (two-mostly-heads-flips) \n",
    "  (let ([coin-weight 0.9])\n",
    "  (list (flip coin-weight) (flip coin-weight))))\n",
    "\n",
    "(two-mostly-heads-flips)"
   ]
  },
  {
   "cell_type": "markdown",
   "metadata": {},
   "source": [
    "Now let's consider a harder question: having observed the first flip's outcome as <code>#t</code>, in what proportion of samples (of the whole process) does the other flip also have value <code>#t</code>?  We can't just fix the value of the first flip, because that severs its connection to the coin weight. We consider two simple strategies, both of which are implemented in Gamble.\n",
    "\n",
    "##Reject samples that don't agree with the observation\n",
    "\n",
    "Rejection sampling is dead simple, and often used as the basis for an operational semantics for probabilistic programming (ref).  The idea is to generate many samples of all the random variables, from the original model--the \"prior\", in Bayesian lingo--and simply throw out those for which the sampled value(s) of the observed random variable(s) don't agree with the observed value(s).  We could easily roll our own using <code>filter</code>, but rejection sampling is built in to Gamble, and provides a nice introduction to the general pattern of a query.\n",
    "\n",
    "Instead of editing the model, the normal Gamble inference workflow specifies\n",
    "\n",
    "* a generative model (the program that specifies the process),\n",
    "* some observations, and\n",
    "* a query expression.\n",
    "\n",
    "These three elements [go in to] an inference method. \n"
   ]
  },
  {
   "cell_type": "code",
   "execution_count": 37,
   "metadata": {
    "collapsed": false
   },
   "outputs": [
    {
     "data": {
      "text/plain": [
       "6700"
      ]
     },
     "execution_count": 37,
     "metadata": {},
     "output_type": "execute_result"
    }
   ],
   "source": [
    "(define two-wtd-cn-rej-sampler\n",
    "  (rejection-sampler\n",
    "   \n",
    "    ;; Model.\n",
    "    (define coin-weight (uniform 0 1))\n",
    "    (define flip1 (flip coin-weight))\n",
    "    (define flip2 (flip coin-weight))\n",
    "   \n",
    "    ;; Observations.\n",
    "    (observe/fail flip1 #t)\n",
    "   \n",
    "    ;; Query (\"return\") expression.\n",
    "    flip2))\n",
    "   \n",
    "   \n",
    "(length (filter is-true? (repeat two-wtd-cn-rej-sampler 10000)))"
   ]
  },
  {
   "cell_type": "markdown",
   "metadata": {},
   "source": [
    "It looks like observing the first flip to be .. tells us that the second is .. about two thirds of the time.  As we will see in a bit, this happens to be one of the few special cases where we can verify that answer against a closed-form solution.\n",
    "\n",
    "TODO: Show more idiomatic, vector-based sample generating/handling procedures.\n",
    "\n",
    "\n",
    "\n",
    "##Weight samples of other variables by the degree to which they \"agree with\" the observation\n",
    "\n",
    "Rejection is a wasteful procedure, especially when the observed values occur in only a small fraction of samples from the prior.  \"Likelihood weighting\" is a bit smarter; instead of actually drawing values for the observed random variables, many or most of which will be incompatible with the observed values, *weight* samples of the *other* random variables by how probable the observed values are, given those sampled values."
   ]
  },
  {
   "cell_type": "code",
   "execution_count": 48,
   "metadata": {
    "collapsed": false
   },
   "outputs": [
    {
     "name": "stderr",
     "output_type": "stream",
     "text": [
      "send: no such method\n",
      "  method name: sample\n",
      "  class name: importance-sampler%\n",
      "  context...:\n",
      "   /Applications/Racket v6.1.1/collects/racket/private/class-internal.rkt:4442:0: obj-error34\n",
      "   /Users/seanstromsten/Library/Racket/6.1.1/pkgs/gamble/gamble/private/prob-util.rkt:87:0: generate-weighted-samples29\n",
      "   /Applications/Racket v6.1.1/share/pkgs/sandbox-lib/racket/sandbox.rkt:475:0: call-with-custodian-shutdown\n",
      "   /Applications/Racket v6.1.1/collects/racket/private/more-scheme.rkt:147:2: call-with-break-parameterization\n",
      "   /Applications/Racket v6.1.1/share/pkgs/sandbox-lib/racket/sandbox.rkt:837:5: loop\n"
     ]
    }
   ],
   "source": [
    "(define two-wtd-cn-lw-sampler\n",
    "  (importance-sampler\n",
    "   \n",
    "    ;; Model.\n",
    "    (define coin-weight (uniform 0 1))\n",
    "    (define flip1 (flip coin-weight))\n",
    "    (define flip2 (flip coin-weight))\n",
    "   \n",
    "    ;; Observations.\n",
    "    (observe/fail flip1 #t)\n",
    "   \n",
    "    ;; Query (\"return\") expression.\n",
    "    flip2))\n",
    "\n",
    "\n",
    "(generate-weighted-samples two-wtd-cn-lw-sampler 3)"
   ]
  },
  {
   "cell_type": "markdown",
   "metadata": {},
   "source": [
    "TODO: make this work, and then answer a question using weighted samples. Also, successfully switch to deflazy and observe (not observe/fail), and explain the differences between the two \"observes\"...\n",
    "\n",
    "###<code>observe</code> versus <code>observe/fail</code>\n",
    "\n",
    "<code>observe</code> is better than <code>observe/fail</code> in just the same way that likelihood weighting is better than rejection sampling: rather than waiting to see what value has been drawn, to apply an observation, <code>observe</code> weights the rest of the draw by the observed value.  However, <code>observe</code> has some restrictions on its use.  First of all, it can't be used when a (possibly different) value for the observed random value has already been drawn!  By substituting <code>deflazy</code> for <code>define</code>, [somewhere], we tell the compiler[/interpreter?] not to draw that value immediately, but wait, instead, until it is required to produce the query value or score a state [...].  A <code>deflazy</code> and an <code>observe</code> of the same variable can be combined into a weighting expression by the compiler. [...Ryan...].\n",
    "\n",
    "\n",
    "##Explore the space of values of unobserved random variables by a sequence of random *proposals*\n",
    "\n",
    "The workhorse of inference, for hard problems, is the *Metropolis-Hastings* sampler.  Why it works is beyond the scope of this introduction, but the intuition is not too hard.\n",
    "\n",
    "* The sampled and observed values define a *score* (probability or log-probability) for every state.\n",
    "* From any current state, simple random perturbations of values can *propose* a new state.\n",
    "* The score function can be used to decide whether to accept the proposed state or keep the old one.\n",
    "* As if by magic, this procedure eventually samples from the correct posterior distribution.\n",
    "\n",
    "The \"eventually\" part means that it is usually a good idea to sample for a while (a \"burn-in\" period) before collecting any values.  Also, because successive samples are far from independent, it can be space efficient to \"thin\" the sample sequence--that is, to skip some number of samples between recorded ones.  These two delays are input to <code>generate-samples</code> by the optional, keyword-identified arguments <code>#:burn</code> and <code>#:thin</code>."
   ]
  },
  {
   "cell_type": "code",
   "execution_count": 71,
   "metadata": {
    "collapsed": false
   },
   "outputs": [
    {
     "name": "stdout",
     "output_type": "stream",
     "text": [
      "cpu time: 222 real time: 222 gc time: 6\n"
     ]
    },
    {
     "data": {
      "text/plain": [
       "66"
      ]
     },
     "execution_count": 71,
     "metadata": {},
     "output_type": "execute_result"
    }
   ],
   "source": [
    "(require racket/vector)\n",
    "\n",
    "(define two-wtd-cn-mh-sampler\n",
    "  (mh-sampler\n",
    "   \n",
    "    ;; Model.\n",
    "    (define coin-weight (uniform 0 1))\n",
    "    (define flip1 (flip coin-weight))\n",
    "    (define flip2 (flip coin-weight))\n",
    "   \n",
    "    ;; Observations.\n",
    "    (observe/fail flip1 #t)\n",
    "   \n",
    "    ;; Query (\"return\") expression.\n",
    "    flip2))\n",
    "\n",
    "\n",
    "(time (vector-length \n",
    " (vector-filter is-true? \n",
    "                (generate-samples two-wtd-cn-mh-sampler 100 #:burn 100 #:thin 100))))"
   ]
  },
  {
   "cell_type": "code",
   "execution_count": 72,
   "metadata": {
    "collapsed": false
   },
   "outputs": [
    {
     "name": "stdout",
     "output_type": "stream",
     "text": [
      "cpu time: 302 real time: 301 gc time: 13\n"
     ]
    },
    {
     "data": {
      "text/plain": [
       "66"
      ]
     },
     "execution_count": 72,
     "metadata": {},
     "output_type": "execute_result"
    }
   ],
   "source": [
    "(require racket/vector)\n",
    "\n",
    "(define two-wtd-cn-mh-sampler2\n",
    "  (mh-sampler\n",
    "   \n",
    "    ;; Model.\n",
    "    (define coin-weight (uniform 0 1))\n",
    "    (deflazy flip1 (flip coin-weight))\n",
    "    (define flip2 (flip coin-weight))\n",
    "   \n",
    "    ;; Observations.\n",
    "    (observe flip1 #t)\n",
    "   \n",
    "    ;; Query (\"return\") expression.\n",
    "    flip2))\n",
    "\n",
    "\n",
    "(time (vector-length \n",
    " (vector-filter is-true? \n",
    "                (generate-samples two-wtd-cn-mh-sampler2 100 #:burn 100 #:thin 100))))"
   ]
  },
  {
   "cell_type": "markdown",
   "metadata": {},
   "source": [
    "\n",
    "\n",
    "## Beyond uniform coin weights\n",
    "\n",
    "Suppose\n",
    "you know that the coin about to be flipped is weighted, so that it is more likely to land one\n",
    "way than the other.  What you don't know is which side it favors, or to what degree. From your knowledge of the physics of flipping, though, extreme weights seem very \n",
    "unlikely.  To represent this state of knowledge, you need a distribution of *p(heads)* which concentrates its mass near 0.5.  \n",
    "\n",
    "### Beta distributions\n",
    "\n",
    "There is a standard distibution family for just this case: the family of *beta* distributions.  A beta distribution assigns a probability density to every number in the interval $[0,1]$, and integrates to one over that interval.  A beta's shape is determined by two parameters, $\\alpha$ and $\\beta$, which act like \"virtual observations\".  That is, a preponderance of pseudo-observed ones (larger $\\alpha$) moves the probability mass to the right, while a preponderance of pseudo-observed zeros (larger $\\beta$) moves it to the left.  Here are a few beta distributions:"
   ]
  },
  {
   "cell_type": "code",
   "execution_count": 17,
   "metadata": {
    "collapsed": false
   },
   "outputs": [
    {
     "name": "stdout",
     "output_type": "stream",
     "text": [
      "dyspnea: 58/125\n",
      "tuberculosis: 53/1000\n",
      "lung cancer: 29/500\n"
     ]
    },
    {
     "name": "stderr",
     "output_type": "stream",
     "text": []
    }
   ],
   "source": [
    "(define (asia-w-visit)\n",
    "    (define visit-to-asia #t)\n",
    "    (define smoker (flip 0.5))\n",
    "    (define tuberculosis (if visit-to-asia (flip 0.05) (flip 0.01)))\n",
    "    (define lung-cancer (if smoker (flip 0.1) (flip 0.01)))\n",
    "    (define bronchitis (if smoker (flip 0.6) (flip 0.3)))\n",
    "    (define tb-or-c (or tuberculosis lung-cancer))\n",
    "    (define x-ray-abnormal (if tb-or-c (flip 0.98) (flip 0.05)))\n",
    "    (define dyspnea (cond [(and tb-or-c bronchitis) (flip 0.9)]\n",
    "                          [tb-or-c (flip 0.7)]\n",
    "                          [bronchitis (flip 0.8)]\n",
    "                          [else (flip 0.1)]))\n",
    "    (map (lambda (x) (if x 1 0)) (list dyspnea tuberculosis lung-cancer)))\n",
    "\n",
    "    (define asia-w-visit-sample-means (sampler->mean asia-w-visit 1000))\n",
    "    \n",
    "    (printf \"dyspnea: ~a\\ntuberculosis: ~a\\nlung cancer: ~a\\n\" \n",
    "            (list-ref asia-w-visit-sample-means 0) \n",
    "            (list-ref asia-w-visit-sample-means 1) \n",
    "            (list-ref asia-w-visit-sample-means 2) )"
   ]
  },
  {
   "cell_type": "markdown",
   "metadata": {},
   "source": [
    "We can compare this with the original set of probabilies of problems to see that the probability that\n",
    "Bob has tuberculosis is indeed higher, now that we know he has visited the dangerous continent.  It's even easier in pictures:\n",
    "\n"
   ]
  },
  {
   "cell_type": "code",
   "execution_count": 5,
   "metadata": {
    "collapsed": false
   },
   "outputs": [
    {
     "data": {
      "image/png": "[encoded data removed]",
      "text/plain": [
       "#(struct:pict (prog #<procedure:...o-gui/plot2d.rkt:81:6> 400) 400 400 400 0 () #f #f)"
      ]
     },
     "execution_count": 5,
     "metadata": {},
     "output_type": "execute_result"
    },
    {
     "name": "stdout",
     "output_type": "stream",
     "text": []
    },
    {
     "name": "stderr",
     "output_type": "stream",
     "text": []
    }
   ],
   "source": [
    "(require plot/pict)\n",
    "(plot (list (discrete-histogram `(#(dyspnea ,(list-ref asia-w-visit-sample-means 0))\n",
    "                                  #(tuberculosis ,(list-ref asia-w-visit-sample-means 1))\n",
    "                                  #(lung-cancer ,(list-ref asia-w-visit-sample-means 2)))\n",
    "                                    #:skip 2.5 \n",
    "                                    #:x-min 0\n",
    "                                    #:label \"Visit known\")\n",
    "            (discrete-histogram `(#(dyspnea ,(list-ref asia-sample-means 0))\n",
    "                                  #(tuberculosis ,(list-ref asia-sample-means 1))\n",
    "                                  #(lung-cancer ,(list-ref asia-sample-means 2)))\n",
    "                                    #:skip 2.5 \n",
    "                                    #:x-min 1\n",
    "                                    #:label \"Nothing known\"\n",
    "                                    #:color 2\n",
    "                                    #:line-color 2))\n",
    "          #:x-label \"Problems\"\n",
    "          #:y-label \"Problem probabilities\")\n"
   ]
  },
  {
   "cell_type": "markdown",
   "metadata": {},
   "source": [
    "\n",
    "##...but inference is *usually **hard** *\n",
    "\n",
    "Editing the model is not a very nice way to incorporate evidence, and not the way we'll usualy do it.  In fact, editing the program this way doesn't work at all for the obviously useful inference; the probability\n",
    "that Bob has tuberculosis given that he\n",
    "has some symptoms--say, an abnormal x-ray (though having recently made a trip to Asia \n",
    "might also be useful information--more on that later).  \n",
    "\n",
    "We will write the probability of disease \n",
    "status $d$, given symtoms $s$, as \n",
    "$p(d|s)$.  We have defined a model in terms of\n",
    "disease probability, $p(d)$ and symptom probability, given diseases $p(s|d)$. The program\n",
    "represents a sequential generative process, where the conditions--the variables to the right of the \"|\"s--\n",
    "are sampled before the variables to the left.  We can see now why \n",
    "editing the program fails: the program runs top to bottom (or inside to outside, for nested expressions), \n",
    "so fixing (rather than drawing) symptoms, \n",
    "which happen \"later\" in the generative process than diseases,\n",
    "won't affect the frequency with which diseases are drawn.\n",
    "This raises two questions: (1) How do we answer\n",
    "the doctor's \"backwards\" question using this model? (2) Why didn't we just make the model go\n",
    "the other way?  The short, vague answer to (2) is that sometimes we do, but that there are often good reasons not to. \n",
    "Let's postpone the details of when and why to make non-causally ordered models.\n",
    "\n",
    "\n",
    "Mathematically, the answer to (1) is \"simple\": by the definition of conditional probability\n",
    "\n",
    "$$p(d|s) = p(d,s)/p(s)$$\n",
    "\n",
    "But neither of these probabilities is provided directly by the model. Instead, we have to consider\n",
    "all the possible values of all the other variables.  For the moment, lets summarize such a value \n",
    "set as \"n\" (for \"nuisance\").\n",
    "\n",
    "$$p(d|s) = \\frac{\\sum_n p(d,s,n)}{\\sum_n p(s,n)}$$\n",
    "\n",
    "The model tells us just how to decompose those joint probabilities into products of local \n",
    "conditionals.  \n",
    "\n",
    "All of this leads to slogan two:\n",
    "\n",
    ">**Probabilistic programs are written in programming languages that support *conditioning*. ** \n",
    "\n",
    "\n",
    "\n",
    "For simple, mathematically convenient models, there are closed-form solutions to some inference problems. But those are not those of most concern to us, because when domain experts construct models of systems, they aren't thinking about mathematical convenience.  \n",
    "\n",
    "\n",
    "There are lots of other inference strategies and algorithms, several of which we will discuss.\n",
    "But we discuss them only briefly, because one of the purposes\n",
    "of a probabilistic programming language is to make it possible to think about models *without* at the \n",
    "same time thinking (much) about inference (this is not just for the benefit of the users of the language (the modelers); implementing inference algorithms case\n",
    "by case is tiresome, repetitive, and error prone, so concentrating implementation and debugging effort into re-usable form benefits implementers, as well).\n",
    "\n",
    "This is where probabilistic programming becomes clear as a new field, and not just an application\n",
    "of existing programming languages.  Probabilistic programming aims to separate out the inference problem from\n",
    "the model-specification problem, so that modelers need not know about inference algorithms\n",
    "in order to get answers to their questions,\n",
    "and so that inference methods and code can be reused across models, and efforts to validate and improve that\n",
    "code can be consilidated and conserved.\n",
    "\n",
    "\n",
    ">**We need probabilistic programming to allow us to think about modeling without at the same time having to think (much) about inference.**\n",
    "\n",
    "For small, discrete-valued problems like the \"Asia\" BN, there are clever enumeration\n",
    "algorithms for exact inference.  Approximate algorithms are more generally applicable.  We consider several inference algorithms, and show how to use them to specify observations and query the \"Asia\" BN. \n",
    "\n",
    "#Inference algorithms\n",
    "\n",
    "##Inference by enumeration gives exact answers, when applicable\n",
    "\n",
    "Instead of editing the model, the normal Gamble inference workflow specifies\n",
    "* a *generative model* (the program that specifies the process), \n",
    "* some observations, and \n",
    "* a query expression. \n",
    "\n",
    "These three elements [go in to] an *inference method*.  Because the \"Asia\" Bayes net is small and discrete, we can solve it exactly, using \n",
    "\"enumerate\".  Enumerate considers all possible states of the non-observed variables, but does so in a clever\n",
    "way that is much more efficient that brute-force enumeration. [equivalent to VE?]\n",
    "\n",
    "TODO: do something to \"results\", below, to get individual variable probabilities, as I do for the \n",
    "other inferences.\n",
    "\n",
    "\n",
    "\n",
    "\n"
   ]
  },
  {
   "cell_type": "markdown",
   "metadata": {},
   "source": [
    "\n"
   ]
  },
  {
   "cell_type": "code",
   "execution_count": 59,
   "metadata": {
    "collapsed": false,
    "scrolled": true
   },
   "outputs": [
    {
     "data": {
      "image/png": "[encoded data removed]",
      "text/plain": [
       "#(struct:pict (prog #<procedure:...o-gui/plot2d.rkt:81:6> 400) 400 400 400 0 () #f #f)"
      ]
     },
     "execution_count": 59,
     "metadata": {},
     "output_type": "execute_result"
    },
    {
     "name": "stdout",
     "output_type": "stream",
     "text": []
    },
    {
     "name": "stderr",
     "output_type": "stream",
     "text": []
    }
   ],
   "source": [
    "; A plotting convenience function\n",
    "(define (show-beta alpha beta) \n",
    "  (plot (function \n",
    "         (lambda (x) (dist-pdf (beta-dist alpha beta) x)) \n",
    "         0.0001 \n",
    "         0.9999 \n",
    "         #:y-min 0\n",
    "         #:y-max 4)))\n",
    "\n",
    "(show-beta 1 1)"
   ]
  },
  {
   "cell_type": "markdown",
   "metadata": {},
   "source": [
    "$beta(1,1)$ is just a uniform distribution on $[0,1]$."
   ]
  },
  {
   "cell_type": "code",
   "execution_count": 60,
   "metadata": {
    "collapsed": false,
    "scrolled": false
   },
   "outputs": [
    {
     "data": {
      "image/png": "[encoded data removed]",
      "text/plain": [
       "#(struct:pict (prog #<procedure:...o-gui/plot2d.rkt:81:6> 400) 400 400 400 0 () #f #f)"
      ]
     },
     "execution_count": 60,
     "metadata": {},
     "output_type": "execute_result"
    },
    {
     "name": "stdout",
     "output_type": "stream",
     "text": []
    },
    {
     "name": "stderr",
     "output_type": "stream",
     "text": []
    }
   ],
   "source": [
    "(show-beta 2 2)"
   ]
  },
  {
   "cell_type": "markdown",
   "metadata": {},
   "source": [
    "Like $beta(1,1)$, $beta(2,2)$ favors neither side of the interval, but, unlike $beta(1,1)$, it concentrates its probability mass near 0.5.  In general, if the $\\alpha$ and $\\beta$ parameters are given equal values, larger values will concentrate more sharply on 0.5."
   ]
  },
  {
   "cell_type": "code",
   "execution_count": 62,
   "metadata": {
    "collapsed": false,
    "scrolled": true
   },
   "outputs": [
    {
     "data": {
      "image/png": "[encoded data removed]",
      "text/plain": [
       "#(struct:pict (prog #<procedure:...o-gui/plot2d.rkt:81:6> 400) 400 400 400 0 () #f #f)"
      ]
     },
     "execution_count": 62,
     "metadata": {},
     "output_type": "execute_result"
    },
    {
     "name": "stdout",
     "output_type": "stream",
     "text": []
    },
    {
     "name": "stderr",
     "output_type": "stream",
     "text": []
    }
   ],
   "source": [
    "(show-beta 10 10)"
   ]
  },
  {
   "cell_type": "markdown",
   "metadata": {},
   "source": [
    "When $\\alpha$ is big, relative to $\\beta$, the probability mass shifts towards 1."
   ]
  },
  {
   "cell_type": "code",
   "execution_count": 66,
   "metadata": {
    "collapsed": false,
    "scrolled": true
   },
   "outputs": [
    {
     "data": {
      "image/png": "[encoded data removed]",
      "text/plain": [
       "#(struct:pict (prog #<procedure:...o-gui/plot2d.rkt:81:6> 400) 400 400 400 0 () #f #f)"
      ]
     },
     "execution_count": 66,
     "metadata": {},
     "output_type": "execute_result"
    },
    {
     "name": "stdout",
     "output_type": "stream",
     "text": []
    },
    {
     "name": "stderr",
     "output_type": "stream",
     "text": []
    }
   ],
   "source": [
    "(show-beta 4 1)"
   ]
  },
  {
   "cell_type": "markdown",
   "metadata": {},
   "source": [
    "Reversing the values of $\\alpha$ and $\\beta$ just flips the graph around the $x=0.5$ axis.\n",
    "\n",
    "$\\alpha$ and $\\beta$ values below 1 concentrate probability mass near the extremes:"
   ]
  },
  {
   "cell_type": "code",
   "execution_count": 69,
   "metadata": {
    "collapsed": false
   },
   "outputs": [
    {
     "data": {
      "image/png": "[encoded data removed]",
      "text/plain": [
       "#(struct:pict (prog #<procedure:...o-gui/plot2d.rkt:81:6> 400) 400 400 400 0 () #f #f)"
      ]
     },
     "execution_count": 69,
     "metadata": {},
     "output_type": "execute_result"
    },
    {
     "name": "stdout",
     "output_type": "stream",
     "text": []
    },
    {
     "name": "stderr",
     "output_type": "stream",
     "text": []
    }
   ],
   "source": [
    "(show-beta 0.9 0.8)"
   ]
  },
  {
   "cell_type": "markdown",
   "metadata": {},
   "source": [
    "Assuming a moderate concentration of probability mass near 0.5, we can model 5 flips of the same weighted coin like so:"
   ]
  },
  {
   "cell_type": "code",
   "execution_count": 75,
   "metadata": {
    "collapsed": false
   },
   "outputs": [
    {
     "data": {
      "text/plain": [
       "(0.6665448617839016 0.6628000000000001)"
      ]
     },
     "execution_count": 75,
     "metadata": {},
     "output_type": "execute_result"
    },
    {
     "name": "stdout",
     "output_type": "stream",
     "text": []
    },
    {
     "name": "stderr",
     "output_type": "stream",
     "text": []
    }
   ],
   "source": [
    "(define weighted-flips\n",
    "    (rejection-sampler\n",
    "     \n",
    "        ;; Generative model\n",
    "        (define wt (beta 5 5))\n",
    "        (deflazy result1 (bernoulli wt))\n",
    "        (deflazy result2 (bernoulli wt))\n",
    "        (deflazy result3 (bernoulli wt))\n",
    "        (deflazy result4 (bernoulli wt))\n",
    "        (deflazy result5 (bernoulli wt))\n",
    "        (deflazy result6 (bernoulli wt))\n",
    "     \n",
    "        ;; Observations\n",
    "        (observe result1 1)\n",
    "        (observe result2 1)\n",
    "        (observe result3 1)\n",
    "        (observe result4 1)\n",
    "        (observe result5 1)\n",
    "\n",
    "        ;; Query expression\n",
    "        (list wt (exact->inexact result6))))\n",
    "\n",
    "   (sampler->mean weighted-flips 10000) "
   ]
  },
  {
   "cell_type": "markdown",
   "metadata": {},
   "source": [
    "Here we see that five 1s changes our best guess of the coin's weight to something like 0.67.\n",
    "\n",
    "You probably noticed the new <code>deflazy</code> [constructs] where the defines used to be.  These are necessary because <code>observes</code> combine with sampling expressions, under the hood, whereas <code>define</code>s are evaluated immediately. [...Ryan...]\n",
    "\n",
    "This happens to be one of those rare cases with a closed-form solution for the expected values of our query expressions.  The beta distribution is *conjugate* to the Bernoulli distribution, which means that the posterior distribution, given all of this observations, is also a beta distribution.  \n",
    "\n",
    "Remember where I said that $\\alpha$ and $\\beta$ behave like pseudo-observations?  Well, observations do too!  To get the posterior beta, we just add the number of 1s to alpha to define $\\alpha'$, and the number of 0s to $\\beta$ to define $\\beta'$.  The posterior is then $beta(\\alpha',\\beta')$--here, $beta(10,5)$.\n",
    "\n",
    "A quick look at Wikipedia confirms that the mean of this posterior is $10/(10+5) = 2/3 \\approx 0.66$, and the posterior predictive distribution of <code>result6</code> is the same.\n",
    "\n",
    "\n",
    "\n",
    "[not budging enough after ten heads, leading to...]\n",
    "\n",
    "[...more realistic, less mathematically convenient mixture distribution]\n",
    "\n",
    "[...]\n",
    "\n",
    "\n",
    "#Beyond BNs: indexed random variables\n",
    "\n",
    "There is a regular structure to the previous program that should be annoying to every programmer: all of those \"define resultN\" statements look the same.  All of the variables defined in those statements are drawn from the same distribution.  Can't we put them in an indexed set, such as an array or hash?  A popular Gamble idiom (borrowed from Church, but cleaned up) does something a tiny bit more abstract; we use <code>defmem</code> to draw a random *function* from objects of whatever type (integers, below) to draws from <code>(bernoulli wt)</code>.  Conceptually, the entire (infinite) table of values is drawn at the time of definition, but the implementation is lazy; the random draw for a particular input to the random function is drawn the first time that input is seen, and memoized.  \n",
    "\n",
    "[What would be the most natural way to say \"draw me a function at random from the set of functions that assign to each object in the range a draw from dist\"?]"
   ]
  },
  {
   "cell_type": "code",
   "execution_count": 70,
   "metadata": {
    "collapsed": false
   },
   "outputs": [
    {
     "data": {
      "text/plain": [
       "(0.6661860628194309 0.6676000000000001)"
      ]
     },
     "execution_count": 70,
     "metadata": {},
     "output_type": "execute_result"
    },
    {
     "name": "stdout",
     "output_type": "stream",
     "text": []
    },
    {
     "name": "stderr",
     "output_type": "stream",
     "text": []
    }
   ],
   "source": [
    ";; Imports \"range\" and \"for\".\n",
    "(require racket/list)\n",
    "\n",
    "(define weighted-flips\n",
    "   (rejection-sampler\n",
    "   \n",
    "    ;; Generative model\n",
    "    (define wt (beta 5 5))\n",
    "      (defmem (result flip-num)\n",
    "        (bernoulli wt))\n",
    "    \n",
    "    ;; Observations\n",
    "    (for ([x (range 1 6)])\n",
    "          (observe (result x) 1))\n",
    "    \n",
    "    ;; Query expression\n",
    "    (list wt (exact->inexact (result 6)))))\n",
    "\n",
    "   (sampler->mean weighted-flips 10000) "
   ]
  },
  {
   "cell_type": "markdown",
   "metadata": {},
   "source": [
    "Metropolis-Hastings sampling also gets the right answer: (Hooray!)"
   ]
  },
  {
   "cell_type": "markdown",
   "metadata": {},
   "source": [
    "(define weighted-flips-mh\n",
    "   (mh-sampler\n",
    "   \n",
    "    ;; Generative model\n",
    "    (define wt (beta 5 5))\n",
    "      (defmem (result flip-num)\n",
    "        (bernoulli wt))\n",
    "    \n",
    "    ;; Observations\n",
    "    (for ([x (range 1 6)])\n",
    "          (observe (result x) 1))\n",
    "    \n",
    "    ;; Query expression\n",
    "    (list wt (exact->inexact (result 6)))))\n",
    "\n",
    "   (sampler->mean weighted-flips-mh 1000 #:burn 1000 #:thin 50) "
   ]
  },
  {
   "cell_type": "markdown",
   "metadata": {},
   "source": [
    "[We have to track this down and fix it: adaptive-drift-proposal: scale increased out of range]"
   ]
  },
  {
   "cell_type": "code",
   "execution_count": 79,
   "metadata": {
    "collapsed": false
   },
   "outputs": [
    {
     "data": {
      "text/plain": [
       "9"
      ]
     },
     "execution_count": 79,
     "metadata": {},
     "output_type": "execute_result"
    },
    {
     "name": "stdout",
     "output_type": "stream",
     "text": []
    },
    {
     "name": "stderr",
     "output_type": "stream",
     "text": []
    }
   ],
   "source": [
    "(expt 3 2)"
   ]
  },
  {
   "cell_type": "code",
   "execution_count": 83,
   "metadata": {
    "collapsed": false
   },
   "outputs": [
    {
     "data": {
      "text/plain": [
       "54.62728380723642"
      ]
     },
     "execution_count": 83,
     "metadata": {},
     "output_type": "execute_result"
    },
    {
     "name": "stdout",
     "output_type": "stream",
     "text": []
    },
    {
     "name": "stderr",
     "output_type": "stream",
     "text": []
    }
   ],
   "source": [
    "(exact->inexact (expt (/ 51 49) 100))"
   ]
  },
  {
   "cell_type": "markdown",
   "metadata": {},
   "source": [
    "#Junk\n",
    "\n",
    "\n",
    "###Some inferences are easy...\n",
    "\n",
    "The \"Asia\" model is typical of an intuitive, causal style of modeling. It defines a joint probability \n",
    "distribution over risk factors, diseases, and symptoms (that is, it defines the probability of every \n",
    "distinct set of values for those variables) by breaking\n",
    "the process in to small pieces, and it does so in a certain direction.  The pieces correspond to hypothesized \n",
    "\"causal mechanisms\", about which you can read more here (link).  For instance, disease probabilities \n",
    "depend directly on risk factors, because risk factors cause diseases.  Similarly, symptom\n",
    "probabilities depend directly on diseases, because diseases cause symptoms.  Risk factors also cause\n",
    "symptoms, but only indirectly, via diseases.  \n",
    "\n",
    "\n",
    "\n",
    "A model of this form makes it easy to make one kind of conditional inference: forward, from causes to effects \n",
    "(note: the Bayes net formalism doesn't require a causal ordering, and arrows should not always be\n",
    "interpreted as causal.  What makes inference easy, in any Bayes net, is query variables that are \n",
    "*desendants* of observed ones, whether those descendants are effects or not).\n",
    "\n",
    "Suppose we want to know the probability that Bob has tuberculosis, given that he has visited Asia.\n",
    "All we have to do is modify the model above to fix the values of $\\verb+visit-to-asia+$ to $\\verb+#t+$.\n",
    "\n",
    "\n",
    "\n",
    "\n",
    "## and more junk\n",
    "\n",
    "So what?  You don't need the help of\n",
    "probability theory or computers to answer questions about a single coin flip, or even the long-run average of many coin flips.  If you have a \n",
    "little bit of experience with such things, you can probably even answer simple *conditional* questions like \"what's\n",
    "the probability that the first of two flips was heads, given that at least one flip was heads.\n",
    "\n",
    "[more code...]\n",
    "\n",
    "WHERE?: In coin flipping, our ignorance of or inability to measure precisely enough the factors that determine the outcome is nearly complete, but for many other systems (e.g., the motion of a\n",
    "projectile), we have pretty good deterministic models and measurements.  The probabilistic parts are there to capture\n",
    "minor deviations from our ideal model caused by such nuisances as a changeable atmosphere and \n",
    "imperfect sensors.  Random elements sweep under the rug all the factors that either aren't worth \n",
    "modeling, because they complicate the model without much improving predictions; or about which we \n",
    "can never know very much.  \n",
    "\n",
    "  \n",
    "### Intuition and case enumeration fail\n",
    "When processes get just a little more complex than a pair of coin flips, though, unaided human minds either \n",
    "* fail to compute or intuit an answer:\n",
    "    * Q: If anywhere from one to six dice are selected, with equal probability, and the maximum across all dice, in one roll, is 5, what is the probability that the number of dice chosen is two?\n",
    "    * A: I need a computer for this.  Or at least lots of paper and time.\n",
    "* intuit wrong answers: \n",
    "    * Q: Are you having a hot streak at the roulette table?  \n",
    "    * A: Yeah, Baby!  (wrong)\n",
    "\n",
    "### Mathematical analysis fails\n",
    "Sometimes we can use the\n",
    "calculus of probability to answer questions our intution can't.  For instance, suppose ....\n",
    "\n",
    "### Numerical approximations fail \n",
    "We can also use built-in programming language functions to predict the outcomes of more \n",
    "complicated processes,\n",
    "such as flipping a coin 100 times and outputing 1 if heads occurs at least 70 times.  What is\n",
    "the probability of this event? If you said \"about 0.0000016\", give yourself a gold star (or give one to the software that told you the answer).\n",
    "\n",
    "\n",
    "\n",
    "Questions like that above (probability of 70+ heads in 100 fair coin flips) can be answered quickly, to a high degree of precision, by closed form math or fast, accurate numerical methods.  However, queries over more complex models have no such simple off-the-shelf solution methods. The progress of model development...[somewhere: Modeling the system under consideration--call it \"s1\"--is not the same thing as designing a system (\"s2\") to answer questions about s1.  s1 is usually what we care about, and s2 is what we have to muck with to get answers about s1. ]\n",
    "\n",
    "[In these cases, writing down a model of the system you care about is only half (or a tenth of) the battle.  You also need to specify a method for getting an answer.]\n",
    "\n",
    "Simulation is useful when mathematical analysis runs out of steam.\n",
    "\n",
    "\n",
    "#Inference: why we need probabilistic programming\n",
    "\n",
    "Making a model of how frequently diseases occur, and how often they \n",
    "produce various symptoms, is a fine exercise in formalization. First, write down a step-by-step\n",
    "description of the process.  If it's too hard to do the math, or you are too lazy, then \n",
    "draw samples to get an estimate of how often it plays out this or that way.  Note, though,\n",
    "that, so far, we haven't done \n",
    "anything we couldn't have done in just about any existing \n",
    "programming language.  \n",
    "\n",
    "\n",
    "##Why do we need anything new?  \n",
    "Mere simulation of a process is not enough, because **sampling from the possible executions of the process doesn't\n",
    "solve the kinds of problems people usually want to solve**.  Usually, we *observe* the \n",
    "values of some random variables in the model, and want to *infer* the probable values \n",
    "of some others.  For example, a doctor\n",
    "observes a patient's symptoms and needs to infer the patient's probable disease status. The doctor \n",
    "*knows* that the process played out is some way such that particular symptoms\n",
    "occurred, and wants to know something else about how it played out--what *unobservable* disease happened\n",
    "to cause the symptoms.\n",
    "\n",
    "\n",
    "###Some inferences are easy...\n",
    "\n",
    "The \"Asia\" model is typical of an intuitive, causal style of modeling. It defines a joint probability \n",
    "distribution over risk factors, diseases, and symptoms (that is, it defines the probability of every \n",
    "distinct set of values for those variables) by breaking\n",
    "the process in to small pieces, and it does so in a certain direction.  The pieces correspond to hypothesized \n",
    "\"causal mechanisms\", about which you can read more here (link).  For instance, disease probabilities \n",
    "depend directly on risk factors, because risk factors cause diseases.  Similarly, symptom\n",
    "probabilities depend directly on diseases, because diseases cause symptoms.  Risk factors also cause\n",
    "symptoms, but only indirectly, via diseases.  \n",
    "\n",
    "\n",
    "\n",
    "A model of this form makes it easy to make one kind of conditional inference: forward, from causes to effects \n",
    "(note: the Bayes net formalism doesn't require a causal ordering, and arrows should not always be\n",
    "interpreted as causal.  What makes inference easy, in any Bayes net, is query variables that are \n",
    "*desendants* of observed ones, whether those descendants are effects or not).\n",
    "\n",
    "Suppose we want to know the probability that Bob has tuberculosis, given that he has visited Asia.\n",
    "All we have to do is modify the model above to fix the values of $\\verb+visit-to-asia+$ to $\\verb+#t+$.\n",
    "\n",
    "\n",
    "##Simple rejection sampling implements the meaning of conditioning\n",
    "\n",
    "The simplest approximation is this: run the program many times, and throw out those runs that don't \n",
    "produce Bob's symptoms. The proportion of retained runs in which tuberculosis is $\\verb+#t+$ will be, on average,\n",
    "$p(tuberculosis|cough,x-ray)$. \n",
    "\n",
    "\n",
    "\n",
    "\n",
    "<code></code>"
   ]
  },
  {
   "cell_type": "markdown",
   "metadata": {},
   "source": [
    "Here we have \n",
    "\n",
    "* defined a program to \n",
    "  * draw a sample from the joint distribution, via a set of internal <code>defines</code>,\n",
    "  * define an output value (<code>(map (lambda ...</code>), based on that sample;\n",
    "* run that program 1000 times; and \n",
    "* displayed proportions of samples for which the three variables in the output expression take on the value <code>#t</code>.  \n",
    "\n",
    "$\\verb+asia+$ is a no-arg procedure (thunk) that draws a value for each random variable. \n",
    "<code>sampler->mean</code> is a convenience function that runs a sampling thunk a number of times and takes the element-wise means of the samples.\n",
    "\n",
    "\n",
    "###Digression: visualizing results\n",
    "\n",
    "One thing you will want to do quite often is *look at* probability distributions represented as set of samples.  Histograms are very useful for this.  For details, see the \n",
    "[plot](http://docs.racket-lang.org/plot/index.html?q=plot)\n",
    "library, but this examples gives an idea of the basic syntax:"
   ]
  },
  {
   "cell_type": "markdown",
   "metadata": {},
   "source": [
    "For some other small, special models, posterior distributions\n",
    "have nice closed forms.  However, in the general case, these expressions involve very large sums and/or\n",
    "unsolvable integrals, and the only feasible approaches are approximate.  The next few sections discuss a few *Monte Carlo* approximations.  These are approximations that represent the posterior distributions of interest by sets of samples drawn from those distributions.  The first--rejection sampling--is a direct embodiment of the meaning of conditioning.  It is impractical for real problems, but useful as a conceptual aid, and as a check on the correctness of implementations of more sophisiticated algorithms.  The second is the (currently) most popular all purpose sampling method.\n",
    "\n"
   ]
  },
  {
   "cell_type": "markdown",
   "metadata": {},
   "source": [
    "Unfortunately, in many more complicated models nearly all runs will be \n",
    "rejected, because the observations are very improbable (in the case of continuous-valued observations, infinitely\n",
    "so). So, while simple rejection sampling is an intuitive way to think about the meaning of conditional\n",
    "inference, and sometimes a useful check on the correctness of implementations of other inference methods, it\n",
    "is rarely used in practice.  \n",
    "\n",
    "[Likelihood weighting]\n",
    "\n",
    "\n",
    "##Metropolis-Hastings sampling is the Swiss army knife of inference\n",
    "\n",
    "We solved the \"Asia\" diagnosis problem above using \"enum\".  We can also solve it approximately, \n",
    "using a general-purpose sampling algorithm:"
   ]
  },
  {
   "cell_type": "code",
   "execution_count": 73,
   "metadata": {
    "collapsed": false,
    "scrolled": false
   },
   "outputs": [
    {
     "name": "stderr",
     "output_type": "stream",
     "text": [
      "asia-sample-means: undefined;\n",
      " cannot reference undefined identifier\n",
      "  context...:\n",
      "   /Applications/Racket v6.1.1/share/pkgs/sandbox-lib/racket/sandbox.rkt:475:0: call-with-custodian-shutdown\n",
      "   /Applications/Racket v6.1.1/collects/racket/private/more-scheme.rkt:147:2: call-with-break-parameterization\n",
      "   /Applications/Racket v6.1.1/share/pkgs/sandbox-lib/racket/sandbox.rkt:837:5: loop\n"
     ]
    }
   ],
   "source": [
    "(require plot/pict\n",
    "         racket/draw)\n",
    "(plot (discrete-histogram `(#(dyspnea ,(list-ref asia-sample-means 0))\n",
    "                         #(tuberculosis ,(list-ref asia-sample-means 1))\n",
    "                         #(lung-cancer ,(list-ref asia-sample-means 2))))\n",
    "      #:x-label \"problems\"\n",
    "      #:y-label \"probabilities of problems\")"
   ]
  },
  {
   "cell_type": "code",
   "execution_count": null,
   "metadata": {
    "collapsed": true
   },
   "outputs": [],
   "source": []
  }
 ],
 "metadata": {
  "kernelspec": {
   "display_name": "Racket",
   "language": "racket",
   "name": "racket"
  },
  "language_info": {
   "codemirror_mode": "scheme",
   "file_extension": ".rkt",
   "mimetype": "text/x-racket",
   "name": "Racket",
   "pygments_lexer": "racket",
   "version": "6.1.1"
  }
 },
 "nbformat": 4,
 "nbformat_minor": 0
}
