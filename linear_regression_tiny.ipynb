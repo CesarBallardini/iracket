{
 "cells": [
  {
   "cell_type": "markdown",
   "metadata": {},
   "source": [
    "#Linear regression\n",
    "\n",
    "yo."
   ]
  },
  {
   "cell_type": "code",
   "execution_count": 1,
   "metadata": {
    "collapsed": false
   },
   "outputs": [],
   "source": [
    "(require gamble \n",
    "         racket/class\n",
    "         racket/list\n",
    "         racket/vector\n",
    "         \"c3_helpers.rkt\")"
   ]
  },
  {
   "cell_type": "markdown",
   "metadata": {},
   "source": [
    "##Make up a \"true\" regression line\n",
    "\n",
    "We pick a slope, a y-intercept, and an error sigma, which we will want to infer from some data."
   ]
  },
  {
   "cell_type": "code",
   "execution_count": 2,
   "metadata": {
    "collapsed": true
   },
   "outputs": [],
   "source": [
    "(define true-slope 3)\n",
    "(define true-intercept 12)\n",
    "(define true-error-sigma 20)"
   ]
  },
  {
   "cell_type": "markdown",
   "metadata": {},
   "source": [
    "##Make some data\n",
    "\n",
    "Let's see how well we can do with 30 evenly-spaced data points."
   ]
  },
  {
   "cell_type": "code",
   "execution_count": 3,
   "metadata": {
    "collapsed": false
   },
   "outputs": [],
   "source": [
    "(define n-points 30)\n",
    "(define xs (build-vector n-points (lambda (x) x)))\n",
    "(define ys (build-vector n-points\n",
    "                         (lambda (x) (+ (* x true-slope) \n",
    "                                        true-intercept \n",
    "                                        (normal 0 true-error-sigma)))))"
   ]
  },
  {
   "cell_type": "code",
   "execution_count": 4,
   "metadata": {
    "collapsed": false
   },
   "outputs": [
    {
     "data": {
      "application/x-c3-data": [
       "{\"data\":{\"type\":\"scatter\",\"xs\":{\"ys1\":\"xs1\"},\"columns\":[[\"xs1\",0,1,2,3,4,5,6,7,8,9,10,11,12,13,14,15,16,17,18,19,20,21,22,23,24,25,26,27,28,29],[\"ys1\",34.44910394378268,19.98471679616327,26.493814304883806,22.809431745043643,36.57633654003425,-10.2977859104084,15.397228483449684,36.286963392612236,42.231309707040545,46.872343818773,47.928846985026055,65.93344198809476,74.39901795908321,56.858494232865404,65.11754396921108,42.627828700222366,61.834255972350505,88.65696575648501,65.61503709145545,119.54332935731709,75.93347474650821,63.21809031387171,90.89013556242861,57.93961360837076,88.0309307346791,103.65815015001868,92.50755883975474,118.88514443891967,112.0773459213851,84.51854016283512]]},\"axis\":{\"x\":{\"label\":\"x\"},\"y\":{\"label\":\"y\"}}}"
      ],
      "text/plain": [
       "(c3-data . #hasheq((data . #hasheq((type . scatter) (xs . #hasheq((ys1 . xs1))) (columns . ((xs1 0 1 2 3 4 5 6 7 8 9 10 11 12 13 14 15 16 17 18 19 20 21 22 23 24 25 26 27 28 29) (ys1 34.44910394378268 19.98471679616327 26.493814304883806 22.809431745043643 36.57633654003425 -10.2977859104084 15.397228483449684 36.286963392612236 42.231309707040545 46.872343818773 47.928846985026055 65.93344198809476 74.39901795908321 56.858494232865404 65.11754396921108 42.627828700222366 61.834255972350505 88.65696575648501 65.61503709145545 119.54332935731709 75.93347474650821 63.21809031387171 90.89013556242861 57.93961360837076 88.0309307346791 103.65815015001868 92.50755883975474 118.88514443891967 112.0773459213851 84.51854016283512))))) (axis . #hasheq((x . #hasheq((label . x))) (y . #hasheq((label . y)))))))"
      ]
     },
     "execution_count": 4,
     "metadata": {},
     "output_type": "execute_result"
    }
   ],
   "source": [
    "(scatter-c3 (vector->list xs) (vector->list ys))"
   ]
  },
  {
   "cell_type": "markdown",
   "metadata": {},
   "source": [
    "##Make a generative model inside a sampler\n",
    "\n",
    "yessieree."
   ]
  },
  {
   "cell_type": "code",
   "execution_count": 5,
   "metadata": {
    "collapsed": true
   },
   "outputs": [],
   "source": [
    "(define lr\n",
    "  (mh-sampler\n",
    "   (define A (normal 0 10))\n",
    "   (define B (normal 0 10))\n",
    "   (define E (gamma 1 15))\n",
    "   (define (f x)\n",
    "     (+ (* A x) B (normal 0 E)))\n",
    "   (for ([i n-points])\n",
    "     (observe (f i) (vector-ref ys i)))\n",
    "   (vector A B E)))"
   ]
  },
  {
   "cell_type": "code",
   "execution_count": 6,
   "metadata": {
    "collapsed": false,
    "scrolled": true
   },
   "outputs": [
    {
     "name": "stdout",
     "output_type": "stream",
     "text": [
      "Burn in:\n",
      "\n",
      "1000 samples for MAP estimate:\n",
      "== MH sampler\n",
      "== Transition (single-site #:zone #f)\n",
      "Total runs: 2000\n",
      "Accepted traces: 447, 22.35%\n",
      "Traces rejected by condition: 0, 0%\n",
      "Traces rejected by MH threshold: 1553, 77.65%\n",
      "Proposal perturbs: 2000\n",
      "Fall-through perturbs: 0\n",
      "-- Proposal (adaptive-drift)\n",
      "Count: 2000\n",
      "Scale increased: 2\n",
      "Scale decreased: 30\n",
      "Scale maintained: 15\n",
      "-- Random selector\n",
      "\n",
      "100 samples from posterior:\n"
     ]
    }
   ],
   "source": [
    "(printf \"Burn in:\\n\")\n",
    "(for ([i 1000]) (void (lr))) ;; burn in\n",
    "(define s1 (send lr info-in-struct))\n",
    "\n",
    "(printf \"\\n1000 samples for MAP estimate:\\n\")\n",
    "(send lr MAP-estimate 1000)\n",
    "(send lr info)\n",
    "\n",
    ";; This just gets summary stats.  I want to plot individual samples.\n",
    ";;(sampler->statistics lr 1000)\n",
    ";;(send lr info)\n",
    "\n",
    "(printf \"\\n100 samples from posterior:\\n\")\n",
    "(define smpls (generate-samples lr 100 #:thin 20))\n"
   ]
  },
  {
   "cell_type": "code",
   "execution_count": 7,
   "metadata": {
    "collapsed": false
   },
   "outputs": [
    {
     "data": {
      "text/plain": [
       "#(struct:mh-info-struct 999 177 59/333 822 274/333 0 0 822 274/333)"
      ]
     },
     "execution_count": 7,
     "metadata": {},
     "output_type": "execute_result"
    }
   ],
   "source": [
    "s1"
   ]
  },
  {
   "cell_type": "code",
   "execution_count": 7,
   "metadata": {
    "collapsed": false
   },
   "outputs": [
    {
     "data": {
      "text/plain": [
       "#(3.9652733066768713 5.324295034436617 20.47303068411699)"
      ]
     },
     "execution_count": 7,
     "metadata": {},
     "output_type": "execute_result"
    }
   ],
   "source": [
    "(vector-ref smpls 0)\n"
   ]
  },
  {
   "cell_type": "markdown",
   "metadata": {},
   "source": [
    "#Posterior distribution of regression lines\n",
    "\n",
    "yo."
   ]
  },
  {
   "cell_type": "code",
   "execution_count": 8,
   "metadata": {
    "collapsed": false
   },
   "outputs": [],
   "source": [
    "(define (xs-and-ys slope-intercept-error-samples x-min x-max)\n",
    "   (list \n",
    "    (vector->list \n",
    "     (vector-map \n",
    "        (lambda (smp) (list x-min x-max))\n",
    "        slope-intercept-error-samples))\n",
    "    (vector->list\n",
    "     (vector-map \n",
    "        (lambda (smp) (list (+ (vector-ref smp 1) (* x-min (vector-ref smp 0)))\n",
    "                            (+ (vector-ref smp 1) (* x-max (vector-ref smp 0)))))\n",
    "        slope-intercept-error-samples))))\n"
   ]
  },
  {
   "cell_type": "code",
   "execution_count": 9,
   "metadata": {
    "collapsed": false
   },
   "outputs": [],
   "source": [
    "(define end-pts (xs-and-ys (vector-take smpls 10) 0 30))\n"
   ]
  },
  {
   "cell_type": "code",
   "execution_count": 10,
   "metadata": {
    "collapsed": false
   },
   "outputs": [
    {
     "data": {
      "application/x-c3-data": [
       "{\"data\":{\"type\":\"line\",\"types\":{\"true-ys\":\"scatter\"},\"xs\":{\"true-ys\":\"true-xs\",\"ys8\":\"xs8\",\"ys1\":\"xs1\",\"ys0\":\"xs0\",\"ys2\":\"xs2\",\"ys3\":\"xs3\",\"ys4\":\"xs4\",\"ys5\":\"xs5\",\"ys6\":\"xs6\",\"ys7\":\"xs7\",\"ys9\":\"xs9\"},\"columns\":[[\"true-xs\",0,1,2,3,4,5,6,7,8,9,10,11,12,13,14,15,16,17,18,19,20,21,22,23,24,25,26,27,28,29],[\"true-ys\",34.44910394378268,19.98471679616327,26.493814304883806,22.809431745043643,36.57633654003425,-10.2977859104084,15.397228483449684,36.286963392612236,42.231309707040545,46.872343818773,47.928846985026055,65.93344198809476,74.39901795908321,56.858494232865404,65.11754396921108,42.627828700222366,61.834255972350505,88.65696575648501,65.61503709145545,119.54332935731709,75.93347474650821,63.21809031387171,90.89013556242861,57.93961360837076,88.0309307346791,103.65815015001868,92.50755883975474,118.88514443891967,112.0773459213851,84.51854016283512],[\"xs0\",0,30],[\"xs1\",0,30],[\"xs2\",0,30],[\"xs3\",0,30],[\"xs4\",0,30],[\"xs5\",0,30],[\"xs6\",0,30],[\"xs7\",0,30],[\"xs8\",0,30],[\"xs9\",0,30],[\"ys0\",8.5347153493307,108.6336915635424],[\"ys1\",3.171743094523433,115.24348181438542],[\"ys2\",5.600092559237118,119.23577002806039],[\"ys3\",13.961910802097478,110.57532932479994],[\"ys4\",13.598497966236266,112.35017858206587],[\"ys5\",9.216626002848951,97.68964687524078],[\"ys6\",13.914715631534508,114.4167935584776],[\"ys7\",11.403826611233365,113.50403916579458],[\"ys8\",9.520860415722368,114.54216686361926],[\"ys9\",10.448354621721636,107.00835029619749]]},\"axis\":{\"x\":{\"label\":\"x\"},\"y\":{\"label\":\"y\"}},\"point\":{\"show\":\"false\"}}"
      ],
      "text/plain": [
       "(c3-data . #hasheq((data . #hasheq((type . line) (types . #hasheq((true-ys . scatter))) (xs . #hasheq((true-ys . true-xs) (ys8 . xs8) (ys1 . xs1) (ys0 . xs0) (ys2 . xs2) (ys3 . xs3) (ys4 . xs4) (ys5 . xs5) (ys6 . xs6) (ys7 . xs7) (ys9 . xs9))) (columns . ((true-xs 0 1 2 3 4 5 6 7 8 9 10 11 12 13 14 15 16 17 18 19 20 21 22 23 24 25 26 27 28 29) (true-ys 34.44910394378268 19.98471679616327 26.493814304883806 22.809431745043643 36.57633654003425 -10.2977859104084 15.397228483449684 36.286963392612236 42.231309707040545 46.872343818773 47.928846985026055 65.93344198809476 74.39901795908321 56.858494232865404 65.11754396921108 42.627828700222366 61.834255972350505 88.65696575648501 65.61503709145545 119.54332935731709 75.93347474650821 63.21809031387171 90.89013556242861 57.93961360837076 88.0309307346791 103.65815015001868 92.50755883975474 118.88514443891967 112.0773459213851 84.51854016283512) (xs0 0 30) (xs1 0 30) (xs2 0 30) (xs3 0 30) (xs4 0 30) (xs5 0 30) (xs6 0 30) (xs7 0 30) (xs8 0 30) (xs9 0 30) (ys0 8.5347153493307 108.6336915635424) (ys1 3.171743094523433 115.24348181438542) (ys2 5.600092559237118 119.23577002806039) (ys3 13.961910802097478 110.57532932479994) (ys4 13.598497966236266 112.35017858206587) (ys5 9.216626002848951 97.68964687524078) (ys6 13.914715631534508 114.4167935584776) (ys7 11.403826611233365 113.50403916579458) (ys8 9.520860415722368 114.54216686361926) (ys9 10.448354621721636 107.00835029619749))))) (axis . #hasheq((x . #hasheq((label . x))) (y . #hasheq((label . y))))) (point . #hasheq((show . false)))))"
      ]
     },
     "execution_count": 10,
     "metadata": {},
     "output_type": "execute_result"
    }
   ],
   "source": [
    "(multi-reg-line-plus-scatter-c3 \n",
    " (first end-pts)\n",
    " (second end-pts)\n",
    " (vector->list xs)\n",
    " (vector->list ys))"
   ]
  },
  {
   "cell_type": "code",
   "execution_count": null,
   "metadata": {
    "collapsed": true
   },
   "outputs": [],
   "source": []
  }
 ],
 "metadata": {
  "kernelspec": {
   "display_name": "Racket",
   "language": "racket",
   "name": "racket"
  },
  "language_info": {
   "codemirror_mode": "scheme",
   "file_extension": ".rkt",
   "mimetype": "text/x-racket",
   "name": "Racket",
   "pygments_lexer": "racket",
   "version": "6.1.1"
  }
 },
 "nbformat": 4,
 "nbformat_minor": 0
}
